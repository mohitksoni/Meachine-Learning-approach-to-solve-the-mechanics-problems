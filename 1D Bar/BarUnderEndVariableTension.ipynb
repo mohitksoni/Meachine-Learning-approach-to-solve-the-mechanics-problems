{
 "cells": [
  {
   "cell_type": "markdown",
   "id": "42c1759c",
   "metadata": {},
   "source": [
    "### 1D Bar Problem With Variable Loading"
   ]
  },
  {
   "cell_type": "markdown",
   "id": "d0460856",
   "metadata": {},
   "source": [
    "#### Importing all the necessary packages"
   ]
  },
  {
   "cell_type": "code",
   "execution_count": 1,
   "id": "38cd3c4b",
   "metadata": {},
   "outputs": [],
   "source": [
    "using Flux\n",
    "using Statistics\n",
    "using Plots\n",
    "using LinearAlgebra\n",
    "using CPUTime"
   ]
  },
  {
   "cell_type": "markdown",
   "id": "776a2cc2",
   "metadata": {},
   "source": [
    "##### Problem to be solved"
   ]
  },
  {
   "attachments": {
    "02pic-2.png": {
     "image/png": "[encoded data removed]"
    }
   },
   "cell_type": "markdown",
   "id": "292c043c",
   "metadata": {},
   "source": [
    "![02pic-2.png](attachment:02pic-2.png)"
   ]
  },
  {
   "cell_type": "markdown",
   "id": "16231bc8",
   "metadata": {},
   "source": [
    "\n",
    "$$\n",
    "\\frac{d(\\delta)}{dx} = \\frac{q_0 (L-x)}{A E} \\\\\n",
    "\\delta (0.0) = 0.0 \\space [Boundary \\space Condition]\\\\\n",
    "length(L) = 5m \\\\\n",
    "Area(A) = 0.04m^2 \\\\\n",
    "$$"
   ]
  },
  {
   "cell_type": "markdown",
   "id": "1636ed01",
   "metadata": {},
   "source": [
    "### Input parameters"
   ]
  },
  {
   "cell_type": "code",
   "execution_count": 2,
   "id": "11ca4961",
   "metadata": {},
   "outputs": [
    {
     "data": {
      "text/plain": [
       "32"
      ]
     },
     "execution_count": 2,
     "metadata": {},
     "output_type": "execute_result"
    }
   ],
   "source": [
    "A = 0.04 #m2\n",
    "L = 5 #m\n",
    "E = 200 * 10^6 #kN/m2\n",
    "q = 1.5 #kN/m\n",
    "dx = 0.1 #discritization\n",
    "\n",
    "# Neural Network parameters\n",
    "dim = 1\n",
    "N = 32 # Number of nodes in the hidden layer"
   ]
  },
  {
   "cell_type": "markdown",
   "id": "597e9ba9",
   "metadata": {},
   "source": [
    "##### This model is for tension"
   ]
  },
  {
   "cell_type": "markdown",
   "id": "915ba53a",
   "metadata": {},
   "source": [
    "Chain function is used to create the collection of different layers. In the below Neural Network there is one hidden dense layer, which contain N nodes each."
   ]
  },
  {
   "cell_type": "code",
   "execution_count": 3,
   "id": "05108202",
   "metadata": {},
   "outputs": [
    {
     "data": {
      "text/plain": [
       "Chain(\n",
       "  var\"#1#3\"(),\n",
       "  Dense(1, 32, tanh),                   \u001b[90m# 64 parameters\u001b[39m\n",
       "  Dense(32, 1),                         \u001b[90m# 33 parameters\u001b[39m\n",
       "  var\"#2#4\"(),\n",
       ")\u001b[90m                   # Total: 4 arrays, \u001b[39m97 parameters, 644 bytes."
      ]
     },
     "execution_count": 3,
     "metadata": {},
     "output_type": "execute_result"
    }
   ],
   "source": [
    "δ = Chain(x -> [x], Dense(dim,N,tanh),Dense(N,dim), x -> x[1])"
   ]
  },
  {
   "attachments": {
    "tanh.jfif": {
     "image/jpeg": "[encoded data removed]"
    }
   },
   "cell_type": "markdown",
   "id": "fbbf565b",
   "metadata": {},
   "source": [
    "Activation Function \"tanh\" : - \n",
    "Activation functions are used to provide non-linearity in the model. There are several activation functions such as 'ReLU', 'LeakyReLU', 'sigmoid' and 'tan-h'(hyperbolic tangent activation function) etc. the reason behind tanh is that it's range is in between [-1, 1] which provides more better results as compared to the sigmoid activation function.\n",
    "\n",
    "![tanh.jfif](attachment:tanh.jfif)"
   ]
  },
  {
   "cell_type": "markdown",
   "id": "d1d7740c",
   "metadata": {},
   "source": [
    "### Function to define the governing equation"
   ]
  },
  {
   "cell_type": "code",
   "execution_count": 4,
   "id": "a7ed709e",
   "metadata": {},
   "outputs": [
    {
     "data": {
      "text/plain": [
       "ODE (generic function with 1 method)"
      ]
     },
     "execution_count": 4,
     "metadata": {},
     "output_type": "execute_result"
    }
   ],
   "source": [
    "ϵ = sqrt(eps(Float32))\n",
    "\n",
    "function ODE(x)\n",
    "    return ((δ.(x .+ ϵ) .- δ.(x)) ./ϵ) .- (L .- x)\n",
    "end"
   ]
  },
  {
   "cell_type": "markdown",
   "id": "e946358d",
   "metadata": {},
   "source": [
    "### Discretization "
   ]
  },
  {
   "cell_type": "code",
   "execution_count": 5,
   "id": "8f8bb2f0",
   "metadata": {},
   "outputs": [
    {
     "data": {
      "text/plain": [
       "0"
      ]
     },
     "execution_count": 5,
     "metadata": {},
     "output_type": "execute_result"
    }
   ],
   "source": [
    "dom = collect(0.0:dx:L)\n",
    "z1 = 0"
   ]
  },
  {
   "cell_type": "markdown",
   "id": "5be511fb",
   "metadata": {},
   "source": [
    "### Define Loss function\n",
    "\n",
    "Satisfying boundary conditions and the governing equation at discretized points."
   ]
  },
  {
   "cell_type": "code",
   "execution_count": 6,
   "id": "e7479a4c",
   "metadata": {},
   "outputs": [
    {
     "data": {
      "text/plain": [
       "loss1 (generic function with 1 method)"
      ]
     },
     "execution_count": 6,
     "metadata": {},
     "output_type": "execute_result"
    }
   ],
   "source": [
    "loss1() = norm((abs2.(ODE(dom))) .+ abs2.(δ.(z1)))"
   ]
  },
  {
   "cell_type": "markdown",
   "id": "389215a5",
   "metadata": {},
   "source": [
    "### Define Neural network parameters (ps1) and optimizers to train the model"
   ]
  },
  {
   "cell_type": "code",
   "execution_count": 7,
   "id": "5b654f19",
   "metadata": {},
   "outputs": [
    {
     "data": {
      "text/plain": [
       "Base.Iterators.Take{Base.Iterators.Repeated{Tuple{}}}(Base.Iterators.Repeated{Tuple{}}(()), 5500)"
      ]
     },
     "execution_count": 7,
     "metadata": {},
     "output_type": "execute_result"
    }
   ],
   "source": [
    "ps1 = Flux.params(δ)\n",
    "opt1 = Flux.ADAM(0.03)                          \n",
    "data1 = Iterators.repeated((),5500)"
   ]
  },
  {
   "cell_type": "markdown",
   "id": "119aeb79",
   "metadata": {},
   "source": [
    "#### Define function to train the model"
   ]
  },
  {
   "cell_type": "code",
   "execution_count": 8,
   "id": "25459847",
   "metadata": {},
   "outputs": [
    {
     "data": {
      "text/plain": [
       "my_custom_train! (generic function with 1 method)"
      ]
     },
     "execution_count": 8,
     "metadata": {},
     "output_type": "execute_result"
    }
   ],
   "source": [
    "function my_custom_train!(loss, ps, data, opt)\n",
    "    local training_loss\n",
    "    itr = 0\n",
    "    for d in data\n",
    "        gs = gradient(ps) do\n",
    "            training_loss = loss()\n",
    "            if (itr %500 == 0.0)\n",
    "                print(\"Current Loss : \",training_loss,\"\\n\")\n",
    "            end\n",
    "            return training_loss\n",
    "        end\n",
    "        Flux.Optimise.update!(opt, ps, gs)\n",
    "        itr += 1;\n",
    "    end\n",
    "end"
   ]
  },
  {
   "cell_type": "markdown",
   "id": "153b5ae6",
   "metadata": {},
   "source": [
    "#### Train the model"
   ]
  },
  {
   "cell_type": "code",
   "execution_count": 9,
   "id": "b2a87a50",
   "metadata": {},
   "outputs": [
    {
     "name": "stdout",
     "output_type": "stream",
     "text": [
      "Current Loss : 98.69760721532906\n",
      "Current Loss : 0.01527948071564713\n",
      "Current Loss : 0.001372162706368268\n",
      "Current Loss : 0.0008080392380040432\n",
      "Current Loss : 0.0004902052054553706\n",
      "Current Loss : 0.00024968461552383727\n",
      "Current Loss : 0.00011744645852718934\n",
      "Current Loss : 0.0002287134466359364\n",
      "Current Loss : 9.916188592518702e-5\n",
      "Current Loss : 8.254494053986236e-5\n",
      "Current Loss : 8.077935234447687e-5\n",
      "elapsed CPU time: 55.734 seconds\n",
      " 55.818527 seconds (182.92 M allocations: 10.656 GiB, 5.52% gc time, 56.73% compilation time)\n"
     ]
    }
   ],
   "source": [
    "# sleep(10) it can be used to give a pause of 10 sec in the process,\n",
    "# we can provide the elepsed time accoarding to our convenience\n",
    "@time @CPUtime my_custom_train!(loss1, ps1, data1, opt1)"
   ]
  },
  {
   "cell_type": "code",
   "execution_count": 10,
   "id": "f038d8b3",
   "metadata": {},
   "outputs": [
    {
     "data": {
      "text/plain": [
       "1.875e-7"
      ]
     },
     "execution_count": 10,
     "metadata": {},
     "output_type": "execute_result"
    }
   ],
   "source": [
    "cons = q/(A*E) #Constant"
   ]
  },
  {
   "cell_type": "markdown",
   "id": "5d96d156",
   "metadata": {},
   "source": [
    "Reason of using \"cons\" instead of direct multipling $(q/(A E))$ in the training process is that, the value of cons makes the range of training very small (nearly zero $e-7$) and in that case we need a lot of parameters to make it perfectly fit so to decrease the computation we had to normalize the data in the training process."
   ]
  },
  {
   "cell_type": "markdown",
   "id": "2d112f2c",
   "metadata": {},
   "source": [
    "### Analytic Solution of the problem"
   ]
  },
  {
   "cell_type": "code",
   "execution_count": 11,
   "id": "a65f78a8",
   "metadata": {},
   "outputs": [
    {
     "data": {
      "text/plain": [
       "analytic_solution_Tension (generic function with 1 method)"
      ]
     },
     "execution_count": 11,
     "metadata": {},
     "output_type": "execute_result"
    }
   ],
   "source": [
    "function analytic_solution_Tension(t)\n",
    "    return cons*(L*t - 0.5*t^2)\n",
    "end"
   ]
  },
  {
   "cell_type": "markdown",
   "id": "55ba5ecf",
   "metadata": {},
   "source": [
    "### Ploting and comparing the results"
   ]
  },
  {
   "cell_type": "code",
   "execution_count": 12,
   "id": "82e75f40",
   "metadata": {
    "scrolled": false
   },
   "outputs": [
    {
     "data": {
      "image/svg+xml": [
       "<?xml version=\"1.0\" encoding=\"utf-8\"?>\n",
       "<svg xmlns=\"http://www.w3.org/2000/svg\" xmlns:xlink=\"http://www.w3.org/1999/xlink\" width=\"600\" height=\"400\" viewBox=\"0 0 2400 1600\">\n",
       "<defs>\n",
       "  <clipPath id=\"clip350\">\n",
       "    <rect x=\"0\" y=\"0\" width=\"2400\" height=\"1600\"/>\n",
       "  </clipPath>\n",
       "</defs>\n",
       "<path clip-path=\"url(#clip350)\" d=\"\n",
       "M0 1600 L2400 1600 L2400 0 L0 0  Z\n",
       "  \" fill=\"#ffffff\" fill-rule=\"evenodd\" fill-opacity=\"1\"/>\n",
       "<defs>\n",
       "  <clipPath id=\"clip351\">\n",
       "    <rect x=\"480\" y=\"0\" width=\"1681\" height=\"1600\"/>\n",
       "  </clipPath>\n",
       "</defs>\n",
       "<path clip-path=\"url(#clip350)\" d=\"\n",
       "M399.514 1423.18 L2352.76 1423.18 L2352.76 123.472 L399.514 123.472  Z\n",
       "  \" fill=\"#ffffff\" fill-rule=\"evenodd\" fill-opacity=\"1\"/>\n",
       "<defs>\n",
       "  <clipPath id=\"clip352\">\n",
       "    <rect x=\"399\" y=\"123\" width=\"1954\" height=\"1301\"/>\n",
       "  </clipPath>\n",
       "</defs>\n",
       "<polyline clip-path=\"url(#clip352)\" style=\"stroke:#000000; stroke-linecap:butt; stroke-linejoin:round; stroke-width:2; stroke-opacity:0.1; fill:none\" points=\"\n",
       "  454.794,1423.18 454.794,123.472 \n",
       "  \"/>\n",
       "<polyline clip-path=\"url(#clip352)\" style=\"stroke:#000000; stroke-linecap:butt; stroke-linejoin:round; stroke-width:2; stroke-opacity:0.1; fill:none\" points=\"\n",
       "  823.33,1423.18 823.33,123.472 \n",
       "  \"/>\n",
       "<polyline clip-path=\"url(#clip352)\" style=\"stroke:#000000; stroke-linecap:butt; stroke-linejoin:round; stroke-width:2; stroke-opacity:0.1; fill:none\" points=\"\n",
       "  1191.87,1423.18 1191.87,123.472 \n",
       "  \"/>\n",
       "<polyline clip-path=\"url(#clip352)\" style=\"stroke:#000000; stroke-linecap:butt; stroke-linejoin:round; stroke-width:2; stroke-opacity:0.1; fill:none\" points=\"\n",
       "  1560.4,1423.18 1560.4,123.472 \n",
       "  \"/>\n",
       "<polyline clip-path=\"url(#clip352)\" style=\"stroke:#000000; stroke-linecap:butt; stroke-linejoin:round; stroke-width:2; stroke-opacity:0.1; fill:none\" points=\"\n",
       "  1928.94,1423.18 1928.94,123.472 \n",
       "  \"/>\n",
       "<polyline clip-path=\"url(#clip352)\" style=\"stroke:#000000; stroke-linecap:butt; stroke-linejoin:round; stroke-width:2; stroke-opacity:0.1; fill:none\" points=\"\n",
       "  2297.48,1423.18 2297.48,123.472 \n",
       "  \"/>\n",
       "<polyline clip-path=\"url(#clip350)\" style=\"stroke:#000000; stroke-linecap:butt; stroke-linejoin:round; stroke-width:4; stroke-opacity:1; fill:none\" points=\"\n",
       "  399.514,1423.18 2352.76,1423.18 \n",
       "  \"/>\n",
       "<polyline clip-path=\"url(#clip350)\" style=\"stroke:#000000; stroke-linecap:butt; stroke-linejoin:round; stroke-width:4; stroke-opacity:1; fill:none\" points=\"\n",
       "  454.794,1423.18 454.794,1404.28 \n",
       "  \"/>\n",
       "<polyline clip-path=\"url(#clip350)\" style=\"stroke:#000000; stroke-linecap:butt; stroke-linejoin:round; stroke-width:4; stroke-opacity:1; fill:none\" points=\"\n",
       "  823.33,1423.18 823.33,1404.28 \n",
       "  \"/>\n",
       "<polyline clip-path=\"url(#clip350)\" style=\"stroke:#000000; stroke-linecap:butt; stroke-linejoin:round; stroke-width:4; stroke-opacity:1; fill:none\" points=\"\n",
       "  1191.87,1423.18 1191.87,1404.28 \n",
       "  \"/>\n",
       "<polyline clip-path=\"url(#clip350)\" style=\"stroke:#000000; stroke-linecap:butt; stroke-linejoin:round; stroke-width:4; stroke-opacity:1; fill:none\" points=\"\n",
       "  1560.4,1423.18 1560.4,1404.28 \n",
       "  \"/>\n",
       "<polyline clip-path=\"url(#clip350)\" style=\"stroke:#000000; stroke-linecap:butt; stroke-linejoin:round; stroke-width:4; stroke-opacity:1; fill:none\" points=\"\n",
       "  1928.94,1423.18 1928.94,1404.28 \n",
       "  \"/>\n",
       "<polyline clip-path=\"url(#clip350)\" style=\"stroke:#000000; stroke-linecap:butt; stroke-linejoin:round; stroke-width:4; stroke-opacity:1; fill:none\" points=\"\n",
       "  2297.48,1423.18 2297.48,1404.28 \n",
       "  \"/>\n",
       "<path clip-path=\"url(#clip350)\" d=\"M454.794 1454.1 Q451.183 1454.1 449.354 1457.66 Q447.549 1461.2 447.549 1468.33 Q447.549 1475.44 449.354 1479.01 Q451.183 1482.55 454.794 1482.55 Q458.428 1482.55 460.234 1479.01 Q462.063 1475.44 462.063 1468.33 Q462.063 1461.2 460.234 1457.66 Q458.428 1454.1 454.794 1454.1 M454.794 1450.39 Q460.604 1450.39 463.66 1455 Q466.739 1459.58 466.739 1468.33 Q466.739 1477.06 463.66 1481.67 Q460.604 1486.25 454.794 1486.25 Q448.984 1486.25 445.905 1481.67 Q442.85 1477.06 442.85 1468.33 Q442.85 1459.58 445.905 1455 Q448.984 1450.39 454.794 1450.39 Z\" fill=\"#000000\" fill-rule=\"evenodd\" fill-opacity=\"1\" /><path clip-path=\"url(#clip350)\" d=\"M813.712 1481.64 L821.351 1481.64 L821.351 1455.28 L813.041 1456.95 L813.041 1452.69 L821.305 1451.02 L825.981 1451.02 L825.981 1481.64 L833.62 1481.64 L833.62 1485.58 L813.712 1485.58 L813.712 1481.64 Z\" fill=\"#000000\" fill-rule=\"evenodd\" fill-opacity=\"1\" /><path clip-path=\"url(#clip350)\" d=\"M1186.52 1481.64 L1202.84 1481.64 L1202.84 1485.58 L1180.89 1485.58 L1180.89 1481.64 Q1183.56 1478.89 1188.14 1474.26 Q1192.75 1469.61 1193.93 1468.27 Q1196.17 1465.74 1197.05 1464.01 Q1197.95 1462.25 1197.95 1460.56 Q1197.95 1457.8 1196.01 1456.07 Q1194.09 1454.33 1190.99 1454.33 Q1188.79 1454.33 1186.33 1455.09 Q1183.9 1455.86 1181.13 1457.41 L1181.13 1452.69 Q1183.95 1451.55 1186.4 1450.97 Q1188.86 1450.39 1190.89 1450.39 Q1196.26 1450.39 1199.46 1453.08 Q1202.65 1455.77 1202.65 1460.26 Q1202.65 1462.39 1201.84 1464.31 Q1201.06 1466.2 1198.95 1468.8 Q1198.37 1469.47 1195.27 1472.69 Q1192.17 1475.88 1186.52 1481.64 Z\" fill=\"#000000\" fill-rule=\"evenodd\" fill-opacity=\"1\" /><path clip-path=\"url(#clip350)\" d=\"M1564.65 1466.95 Q1568.01 1467.66 1569.88 1469.93 Q1571.78 1472.2 1571.78 1475.53 Q1571.78 1480.65 1568.26 1483.45 Q1564.74 1486.25 1558.26 1486.25 Q1556.09 1486.25 1553.77 1485.81 Q1551.48 1485.39 1549.03 1484.54 L1549.03 1480.02 Q1550.97 1481.16 1553.28 1481.74 Q1555.6 1482.32 1558.12 1482.32 Q1562.52 1482.32 1564.81 1480.58 Q1567.13 1478.84 1567.13 1475.53 Q1567.13 1472.48 1564.97 1470.77 Q1562.85 1469.03 1559.03 1469.03 L1555 1469.03 L1555 1465.19 L1559.21 1465.19 Q1562.66 1465.19 1564.49 1463.82 Q1566.32 1462.43 1566.32 1459.84 Q1566.32 1457.18 1564.42 1455.77 Q1562.54 1454.33 1559.03 1454.33 Q1557.1 1454.33 1554.91 1454.75 Q1552.71 1455.16 1550.07 1456.04 L1550.07 1451.88 Q1552.73 1451.14 1555.04 1450.77 Q1557.38 1450.39 1559.44 1450.39 Q1564.77 1450.39 1567.87 1452.83 Q1570.97 1455.23 1570.97 1459.35 Q1570.97 1462.22 1569.33 1464.21 Q1567.68 1466.18 1564.65 1466.95 Z\" fill=\"#000000\" fill-rule=\"evenodd\" fill-opacity=\"1\" /><path clip-path=\"url(#clip350)\" d=\"M1931.95 1455.09 L1920.14 1473.54 L1931.95 1473.54 L1931.95 1455.09 M1930.72 1451.02 L1936.6 1451.02 L1936.6 1473.54 L1941.53 1473.54 L1941.53 1477.43 L1936.6 1477.43 L1936.6 1485.58 L1931.95 1485.58 L1931.95 1477.43 L1916.35 1477.43 L1916.35 1472.92 L1930.72 1451.02 Z\" fill=\"#000000\" fill-rule=\"evenodd\" fill-opacity=\"1\" /><path clip-path=\"url(#clip350)\" d=\"M2287.75 1451.02 L2306.11 1451.02 L2306.11 1454.96 L2292.04 1454.96 L2292.04 1463.43 Q2293.05 1463.08 2294.07 1462.92 Q2295.09 1462.73 2296.11 1462.73 Q2301.9 1462.73 2305.28 1465.9 Q2308.66 1469.08 2308.66 1474.49 Q2308.66 1480.07 2305.18 1483.17 Q2301.71 1486.25 2295.39 1486.25 Q2293.22 1486.25 2290.95 1485.88 Q2288.7 1485.51 2286.29 1484.77 L2286.29 1480.07 Q2288.38 1481.2 2290.6 1481.76 Q2292.82 1482.32 2295.3 1482.32 Q2299.3 1482.32 2301.64 1480.21 Q2303.98 1478.1 2303.98 1474.49 Q2303.98 1470.88 2301.64 1468.77 Q2299.3 1466.67 2295.3 1466.67 Q2293.42 1466.67 2291.55 1467.08 Q2289.7 1467.5 2287.75 1468.38 L2287.75 1451.02 Z\" fill=\"#000000\" fill-rule=\"evenodd\" fill-opacity=\"1\" /><path clip-path=\"url(#clip350)\" d=\"M1220.94 1518.52 L1226.8 1518.52 L1226.8 1568.04 L1220.94 1568.04 L1220.94 1518.52 Z\" fill=\"#000000\" fill-rule=\"evenodd\" fill-opacity=\"1\" /><path clip-path=\"url(#clip350)\" d=\"M1269.54 1548.76 L1269.54 1551.62 L1242.61 1551.62 Q1243 1557.67 1246.24 1560.85 Q1249.52 1564 1255.35 1564 Q1258.72 1564 1261.87 1563.17 Q1265.05 1562.35 1268.17 1560.69 L1268.17 1566.23 Q1265.02 1567.57 1261.71 1568.27 Q1258.4 1568.97 1255 1568.97 Q1246.47 1568.97 1241.47 1564 Q1236.5 1559.04 1236.5 1550.57 Q1236.5 1541.82 1241.21 1536.69 Q1245.96 1531.54 1253.98 1531.54 Q1261.17 1531.54 1265.34 1536.18 Q1269.54 1540.8 1269.54 1548.76 M1263.68 1547.04 Q1263.62 1542.23 1260.98 1539.37 Q1258.37 1536.5 1254.04 1536.5 Q1249.14 1536.5 1246.18 1539.27 Q1243.25 1542.04 1242.81 1547.07 L1263.68 1547.04 Z\" fill=\"#000000\" fill-rule=\"evenodd\" fill-opacity=\"1\" /><path clip-path=\"url(#clip350)\" d=\"M1308.79 1546.53 L1308.79 1568.04 L1302.93 1568.04 L1302.93 1546.72 Q1302.93 1541.66 1300.96 1539.14 Q1298.98 1536.63 1295.04 1536.63 Q1290.29 1536.63 1287.56 1539.65 Q1284.82 1542.68 1284.82 1547.9 L1284.82 1568.04 L1278.93 1568.04 L1278.93 1532.4 L1284.82 1532.4 L1284.82 1537.93 Q1286.92 1534.72 1289.75 1533.13 Q1292.62 1531.54 1296.34 1531.54 Q1302.48 1531.54 1305.63 1535.36 Q1308.79 1539.14 1308.79 1546.53 Z\" fill=\"#000000\" fill-rule=\"evenodd\" fill-opacity=\"1\" /><path clip-path=\"url(#clip350)\" d=\"M1343.92 1549.81 Q1343.92 1543.44 1341.28 1539.94 Q1338.67 1536.44 1333.93 1536.44 Q1329.22 1536.44 1326.58 1539.94 Q1323.97 1543.44 1323.97 1549.81 Q1323.97 1556.14 1326.58 1559.64 Q1329.22 1563.14 1333.93 1563.14 Q1338.67 1563.14 1341.28 1559.64 Q1343.92 1556.14 1343.92 1549.81 M1349.78 1563.62 Q1349.78 1572.72 1345.74 1577.15 Q1341.7 1581.6 1333.36 1581.6 Q1330.27 1581.6 1327.53 1581.13 Q1324.8 1580.68 1322.22 1579.72 L1322.22 1574.03 Q1324.8 1575.43 1327.31 1576.1 Q1329.82 1576.76 1332.43 1576.76 Q1338.2 1576.76 1341.06 1573.74 Q1343.92 1570.75 1343.92 1564.67 L1343.92 1561.77 Q1342.11 1564.92 1339.28 1566.48 Q1336.44 1568.04 1332.5 1568.04 Q1325.94 1568.04 1321.93 1563.05 Q1317.92 1558.05 1317.92 1549.81 Q1317.92 1541.53 1321.93 1536.53 Q1325.94 1531.54 1332.5 1531.54 Q1336.44 1531.54 1339.28 1533.1 Q1342.11 1534.66 1343.92 1537.81 L1343.92 1532.4 L1349.78 1532.4 L1349.78 1563.62 Z\" fill=\"#000000\" fill-rule=\"evenodd\" fill-opacity=\"1\" /><path clip-path=\"url(#clip350)\" d=\"M1367.64 1522.27 L1367.64 1532.4 L1379.7 1532.4 L1379.7 1536.95 L1367.64 1536.95 L1367.64 1556.3 Q1367.64 1560.66 1368.81 1561.9 Q1370.02 1563.14 1373.68 1563.14 L1379.7 1563.14 L1379.7 1568.04 L1373.68 1568.04 Q1366.9 1568.04 1364.33 1565.53 Q1361.75 1562.98 1361.75 1556.3 L1361.75 1536.95 L1357.45 1536.95 L1357.45 1532.4 L1361.75 1532.4 L1361.75 1522.27 L1367.64 1522.27 Z\" fill=\"#000000\" fill-rule=\"evenodd\" fill-opacity=\"1\" /><path clip-path=\"url(#clip350)\" d=\"M1417.03 1546.53 L1417.03 1568.04 L1411.18 1568.04 L1411.18 1546.72 Q1411.18 1541.66 1409.2 1539.14 Q1407.23 1536.63 1403.28 1536.63 Q1398.54 1536.63 1395.8 1539.65 Q1393.07 1542.68 1393.07 1547.9 L1393.07 1568.04 L1387.18 1568.04 L1387.18 1518.52 L1393.07 1518.52 L1393.07 1537.93 Q1395.17 1534.72 1398 1533.13 Q1400.87 1531.54 1404.59 1531.54 Q1410.73 1531.54 1413.88 1535.36 Q1417.03 1539.14 1417.03 1546.53 Z\" fill=\"#000000\" fill-rule=\"evenodd\" fill-opacity=\"1\" /><path clip-path=\"url(#clip350)\" d=\"M1442.78 1518.58 Q1438.52 1525.9 1436.45 1533.06 Q1434.38 1540.23 1434.38 1547.58 Q1434.38 1554.93 1436.45 1562.16 Q1438.55 1569.35 1442.78 1576.64 L1437.69 1576.64 Q1432.92 1569.16 1430.53 1561.93 Q1428.17 1554.71 1428.17 1547.58 Q1428.17 1540.48 1430.53 1533.29 Q1432.89 1526.09 1437.69 1518.58 L1442.78 1518.58 Z\" fill=\"#000000\" fill-rule=\"evenodd\" fill-opacity=\"1\" /><path clip-path=\"url(#clip350)\" d=\"M1481.9 1539.24 Q1484.1 1535.29 1487.15 1533.41 Q1490.21 1531.54 1494.35 1531.54 Q1499.92 1531.54 1502.94 1535.45 Q1505.96 1539.33 1505.96 1546.53 L1505.96 1568.04 L1500.08 1568.04 L1500.08 1546.72 Q1500.08 1541.59 1498.26 1539.11 Q1496.45 1536.63 1492.72 1536.63 Q1488.17 1536.63 1485.53 1539.65 Q1482.89 1542.68 1482.89 1547.9 L1482.89 1568.04 L1477 1568.04 L1477 1546.72 Q1477 1541.56 1475.19 1539.11 Q1473.37 1536.63 1469.58 1536.63 Q1465.1 1536.63 1462.45 1539.68 Q1459.81 1542.71 1459.81 1547.9 L1459.81 1568.04 L1453.92 1568.04 L1453.92 1532.4 L1459.81 1532.4 L1459.81 1537.93 Q1461.82 1534.66 1464.62 1533.1 Q1467.42 1531.54 1471.27 1531.54 Q1475.15 1531.54 1477.86 1533.51 Q1480.6 1535.48 1481.9 1539.24 Z\" fill=\"#000000\" fill-rule=\"evenodd\" fill-opacity=\"1\" /><path clip-path=\"url(#clip350)\" d=\"M1516.72 1518.58 L1521.81 1518.58 Q1526.59 1526.09 1528.94 1533.29 Q1531.33 1540.48 1531.33 1547.58 Q1531.33 1554.71 1528.94 1561.93 Q1526.59 1569.16 1521.81 1576.64 L1516.72 1576.64 Q1520.95 1569.35 1523.02 1562.16 Q1525.12 1554.93 1525.12 1547.58 Q1525.12 1540.23 1523.02 1533.06 Q1520.95 1525.9 1516.72 1518.58 Z\" fill=\"#000000\" fill-rule=\"evenodd\" fill-opacity=\"1\" /><polyline clip-path=\"url(#clip352)\" style=\"stroke:#000000; stroke-linecap:butt; stroke-linejoin:round; stroke-width:2; stroke-opacity:0.1; fill:none\" points=\"\n",
       "  399.514,1386.4 2352.76,1386.4 \n",
       "  \"/>\n",
       "<polyline clip-path=\"url(#clip352)\" style=\"stroke:#000000; stroke-linecap:butt; stroke-linejoin:round; stroke-width:2; stroke-opacity:0.1; fill:none\" points=\"\n",
       "  399.514,1124.94 2352.76,1124.94 \n",
       "  \"/>\n",
       "<polyline clip-path=\"url(#clip352)\" style=\"stroke:#000000; stroke-linecap:butt; stroke-linejoin:round; stroke-width:2; stroke-opacity:0.1; fill:none\" points=\"\n",
       "  399.514,863.487 2352.76,863.487 \n",
       "  \"/>\n",
       "<polyline clip-path=\"url(#clip352)\" style=\"stroke:#000000; stroke-linecap:butt; stroke-linejoin:round; stroke-width:2; stroke-opacity:0.1; fill:none\" points=\"\n",
       "  399.514,602.032 2352.76,602.032 \n",
       "  \"/>\n",
       "<polyline clip-path=\"url(#clip352)\" style=\"stroke:#000000; stroke-linecap:butt; stroke-linejoin:round; stroke-width:2; stroke-opacity:0.1; fill:none\" points=\"\n",
       "  399.514,340.578 2352.76,340.578 \n",
       "  \"/>\n",
       "<polyline clip-path=\"url(#clip350)\" style=\"stroke:#000000; stroke-linecap:butt; stroke-linejoin:round; stroke-width:4; stroke-opacity:1; fill:none\" points=\"\n",
       "  399.514,1423.18 399.514,123.472 \n",
       "  \"/>\n",
       "<polyline clip-path=\"url(#clip350)\" style=\"stroke:#000000; stroke-linecap:butt; stroke-linejoin:round; stroke-width:4; stroke-opacity:1; fill:none\" points=\"\n",
       "  399.514,1386.4 418.411,1386.4 \n",
       "  \"/>\n",
       "<polyline clip-path=\"url(#clip350)\" style=\"stroke:#000000; stroke-linecap:butt; stroke-linejoin:round; stroke-width:4; stroke-opacity:1; fill:none\" points=\"\n",
       "  399.514,1124.94 418.411,1124.94 \n",
       "  \"/>\n",
       "<polyline clip-path=\"url(#clip350)\" style=\"stroke:#000000; stroke-linecap:butt; stroke-linejoin:round; stroke-width:4; stroke-opacity:1; fill:none\" points=\"\n",
       "  399.514,863.487 418.411,863.487 \n",
       "  \"/>\n",
       "<polyline clip-path=\"url(#clip350)\" style=\"stroke:#000000; stroke-linecap:butt; stroke-linejoin:round; stroke-width:4; stroke-opacity:1; fill:none\" points=\"\n",
       "  399.514,602.032 418.411,602.032 \n",
       "  \"/>\n",
       "<polyline clip-path=\"url(#clip350)\" style=\"stroke:#000000; stroke-linecap:butt; stroke-linejoin:round; stroke-width:4; stroke-opacity:1; fill:none\" points=\"\n",
       "  399.514,340.578 418.411,340.578 \n",
       "  \"/>\n",
       "<path clip-path=\"url(#clip350)\" d=\"M351.569 1372.19 Q347.958 1372.19 346.13 1375.76 Q344.324 1379.3 344.324 1386.43 Q344.324 1393.54 346.13 1397.1 Q347.958 1400.64 351.569 1400.64 Q355.204 1400.64 357.009 1397.1 Q358.838 1393.54 358.838 1386.43 Q358.838 1379.3 357.009 1375.76 Q355.204 1372.19 351.569 1372.19 M351.569 1368.49 Q357.38 1368.49 360.435 1373.1 Q363.514 1377.68 363.514 1386.43 Q363.514 1395.16 360.435 1399.76 Q357.38 1404.35 351.569 1404.35 Q345.759 1404.35 342.681 1399.76 Q339.625 1395.16 339.625 1386.43 Q339.625 1377.68 342.681 1373.1 Q345.759 1368.49 351.569 1368.49 Z\" fill=\"#000000\" fill-rule=\"evenodd\" fill-opacity=\"1\" /><path clip-path=\"url(#clip350)\" d=\"M116.769 1114.11 L135.125 1114.11 L135.125 1118.04 L121.051 1118.04 L121.051 1126.52 Q122.07 1126.17 123.088 1126.01 Q124.107 1125.82 125.125 1125.82 Q130.912 1125.82 134.292 1128.99 Q137.671 1132.16 137.671 1137.58 Q137.671 1143.16 134.199 1146.26 Q130.727 1149.34 124.408 1149.34 Q122.232 1149.34 119.963 1148.97 Q117.718 1148.6 115.31 1147.86 L115.31 1143.16 Q117.394 1144.29 119.616 1144.85 Q121.838 1145.4 124.315 1145.4 Q128.32 1145.4 130.658 1143.3 Q132.996 1141.19 132.996 1137.58 Q132.996 1133.97 130.658 1131.86 Q128.32 1129.76 124.315 1129.76 Q122.44 1129.76 120.565 1130.17 Q118.713 1130.59 116.769 1131.47 L116.769 1114.11 Z\" fill=\"#000000\" fill-rule=\"evenodd\" fill-opacity=\"1\" /><path clip-path=\"url(#clip350)\" d=\"M146.884 1142.79 L151.769 1142.79 L151.769 1148.67 L146.884 1148.67 L146.884 1142.79 Z\" fill=\"#000000\" fill-rule=\"evenodd\" fill-opacity=\"1\" /><path clip-path=\"url(#clip350)\" d=\"M171.954 1117.19 Q168.343 1117.19 166.514 1120.75 Q164.708 1124.29 164.708 1131.42 Q164.708 1138.53 166.514 1142.09 Q168.343 1145.64 171.954 1145.64 Q175.588 1145.64 177.393 1142.09 Q179.222 1138.53 179.222 1131.42 Q179.222 1124.29 177.393 1120.75 Q175.588 1117.19 171.954 1117.19 M171.954 1113.48 Q177.764 1113.48 180.819 1118.09 Q183.898 1122.67 183.898 1131.42 Q183.898 1140.15 180.819 1144.76 Q177.764 1149.34 171.954 1149.34 Q166.144 1149.34 163.065 1144.76 Q160.009 1140.15 160.009 1131.42 Q160.009 1122.67 163.065 1118.09 Q166.144 1113.48 171.954 1113.48 Z\" fill=\"#000000\" fill-rule=\"evenodd\" fill-opacity=\"1\" /><path clip-path=\"url(#clip350)\" d=\"M202.116 1117.19 Q198.504 1117.19 196.676 1120.75 Q194.87 1124.29 194.87 1131.42 Q194.87 1138.53 196.676 1142.09 Q198.504 1145.64 202.116 1145.64 Q205.75 1145.64 207.555 1142.09 Q209.384 1138.53 209.384 1131.42 Q209.384 1124.29 207.555 1120.75 Q205.75 1117.19 202.116 1117.19 M202.116 1113.48 Q207.926 1113.48 210.981 1118.09 Q214.06 1122.67 214.06 1131.42 Q214.06 1140.15 210.981 1144.76 Q207.926 1149.34 202.116 1149.34 Q196.305 1149.34 193.227 1144.76 Q190.171 1140.15 190.171 1131.42 Q190.171 1122.67 193.227 1118.09 Q196.305 1113.48 202.116 1113.48 Z\" fill=\"#000000\" fill-rule=\"evenodd\" fill-opacity=\"1\" /><path clip-path=\"url(#clip350)\" d=\"M250.449 1123.21 L239.87 1133.83 L250.449 1144.41 L247.694 1147.21 L237.069 1136.59 L226.444 1147.21 L223.713 1144.41 L234.268 1133.83 L223.713 1123.21 L226.444 1120.41 L237.069 1131.03 L247.694 1120.41 L250.449 1123.21 Z\" fill=\"#000000\" fill-rule=\"evenodd\" fill-opacity=\"1\" /><path clip-path=\"url(#clip350)\" d=\"M262.81 1144.73 L270.449 1144.73 L270.449 1118.37 L262.138 1120.03 L262.138 1115.78 L270.402 1114.11 L275.078 1114.11 L275.078 1144.73 L282.717 1144.73 L282.717 1148.67 L262.81 1148.67 L262.81 1144.73 Z\" fill=\"#000000\" fill-rule=\"evenodd\" fill-opacity=\"1\" /><path clip-path=\"url(#clip350)\" d=\"M302.161 1117.19 Q298.55 1117.19 296.722 1120.75 Q294.916 1124.29 294.916 1131.42 Q294.916 1138.53 296.722 1142.09 Q298.55 1145.64 302.161 1145.64 Q305.796 1145.64 307.601 1142.09 Q309.43 1138.53 309.43 1131.42 Q309.43 1124.29 307.601 1120.75 Q305.796 1117.19 302.161 1117.19 M302.161 1113.48 Q307.972 1113.48 311.027 1118.09 Q314.106 1122.67 314.106 1131.42 Q314.106 1140.15 311.027 1144.76 Q307.972 1149.34 302.161 1149.34 Q296.351 1149.34 293.273 1144.76 Q290.217 1140.15 290.217 1131.42 Q290.217 1122.67 293.273 1118.09 Q296.351 1113.48 302.161 1113.48 Z\" fill=\"#000000\" fill-rule=\"evenodd\" fill-opacity=\"1\" /><path clip-path=\"url(#clip350)\" d=\"M314.106 1107.59 L338.217 1107.59 L338.217 1110.78 L314.106 1110.78 L314.106 1107.59 Z\" fill=\"#000000\" fill-rule=\"evenodd\" fill-opacity=\"1\" /><path clip-path=\"url(#clip350)\" d=\"M345.458 1093.18 L363.514 1093.18 L363.514 1094.8 L353.32 1121.26 L349.351 1121.26 L358.943 1096.38 L345.458 1096.38 L345.458 1093.18 Z\" fill=\"#000000\" fill-rule=\"evenodd\" fill-opacity=\"1\" /><path clip-path=\"url(#clip350)\" d=\"M116.668 883.279 L124.306 883.279 L124.306 856.914 L115.996 858.58 L115.996 854.321 L124.26 852.654 L128.936 852.654 L128.936 883.279 L136.575 883.279 L136.575 887.214 L116.668 887.214 L116.668 883.279 Z\" fill=\"#000000\" fill-rule=\"evenodd\" fill-opacity=\"1\" /><path clip-path=\"url(#clip350)\" d=\"M146.019 881.335 L150.903 881.335 L150.903 887.214 L146.019 887.214 L146.019 881.335 Z\" fill=\"#000000\" fill-rule=\"evenodd\" fill-opacity=\"1\" /><path clip-path=\"url(#clip350)\" d=\"M171.089 855.733 Q167.477 855.733 165.649 859.298 Q163.843 862.84 163.843 869.969 Q163.843 877.076 165.649 880.64 Q167.477 884.182 171.089 884.182 Q174.723 884.182 176.528 880.64 Q178.357 877.076 178.357 869.969 Q178.357 862.84 176.528 859.298 Q174.723 855.733 171.089 855.733 M171.089 852.029 Q176.899 852.029 179.954 856.636 Q183.033 861.219 183.033 869.969 Q183.033 878.696 179.954 883.302 Q176.899 887.886 171.089 887.886 Q165.278 887.886 162.2 883.302 Q159.144 878.696 159.144 869.969 Q159.144 861.219 162.2 856.636 Q165.278 852.029 171.089 852.029 Z\" fill=\"#000000\" fill-rule=\"evenodd\" fill-opacity=\"1\" /><path clip-path=\"url(#clip350)\" d=\"M201.25 855.733 Q197.639 855.733 195.811 859.298 Q194.005 862.84 194.005 869.969 Q194.005 877.076 195.811 880.64 Q197.639 884.182 201.25 884.182 Q204.885 884.182 206.69 880.64 Q208.519 877.076 208.519 869.969 Q208.519 862.84 206.69 859.298 Q204.885 855.733 201.25 855.733 M201.25 852.029 Q207.061 852.029 210.116 856.636 Q213.195 861.219 213.195 869.969 Q213.195 878.696 210.116 883.302 Q207.061 887.886 201.25 887.886 Q195.44 887.886 192.362 883.302 Q189.306 878.696 189.306 869.969 Q189.306 861.219 192.362 856.636 Q195.44 852.029 201.25 852.029 Z\" fill=\"#000000\" fill-rule=\"evenodd\" fill-opacity=\"1\" /><path clip-path=\"url(#clip350)\" d=\"M249.584 861.752 L239.005 872.377 L249.584 882.955 L246.829 885.756 L236.204 875.131 L225.579 885.756 L222.848 882.955 L233.403 872.377 L222.848 861.752 L225.579 858.951 L236.204 869.576 L246.829 858.951 L249.584 861.752 Z\" fill=\"#000000\" fill-rule=\"evenodd\" fill-opacity=\"1\" /><path clip-path=\"url(#clip350)\" d=\"M261.945 883.279 L269.583 883.279 L269.583 856.914 L261.273 858.58 L261.273 854.321 L269.537 852.654 L274.213 852.654 L274.213 883.279 L281.852 883.279 L281.852 887.214 L261.945 887.214 L261.945 883.279 Z\" fill=\"#000000\" fill-rule=\"evenodd\" fill-opacity=\"1\" /><path clip-path=\"url(#clip350)\" d=\"M301.296 855.733 Q297.685 855.733 295.856 859.298 Q294.051 862.84 294.051 869.969 Q294.051 877.076 295.856 880.64 Q297.685 884.182 301.296 884.182 Q304.93 884.182 306.736 880.64 Q308.565 877.076 308.565 869.969 Q308.565 862.84 306.736 859.298 Q304.93 855.733 301.296 855.733 M301.296 852.029 Q307.106 852.029 310.162 856.636 Q313.241 861.219 313.241 869.969 Q313.241 878.696 310.162 883.302 Q307.106 887.886 301.296 887.886 Q295.486 887.886 292.407 883.302 Q289.352 878.696 289.352 869.969 Q289.352 861.219 292.407 856.636 Q295.486 852.029 301.296 852.029 Z\" fill=\"#000000\" fill-rule=\"evenodd\" fill-opacity=\"1\" /><path clip-path=\"url(#clip350)\" d=\"M313.241 846.131 L337.352 846.131 L337.352 849.328 L313.241 849.328 L313.241 846.131 Z\" fill=\"#000000\" fill-rule=\"evenodd\" fill-opacity=\"1\" /><path clip-path=\"url(#clip350)\" d=\"M354.147 844.25 Q351.59 844.25 350.085 845.999 Q348.599 847.748 348.599 850.795 Q348.599 853.823 350.085 855.591 Q351.59 857.34 354.147 857.34 Q356.705 857.34 358.191 855.591 Q359.696 853.823 359.696 850.795 Q359.696 847.748 358.191 845.999 Q356.705 844.25 354.147 844.25 M361.689 832.345 L361.689 835.805 Q360.26 835.128 358.793 834.771 Q357.345 834.413 355.915 834.413 Q352.154 834.413 350.16 836.953 Q348.185 839.492 347.903 844.626 Q349.013 842.99 350.687 842.125 Q352.361 841.241 354.373 841.241 Q358.605 841.241 361.05 843.817 Q363.514 846.375 363.514 850.795 Q363.514 855.121 360.956 857.735 Q358.398 860.349 354.147 860.349 Q349.276 860.349 346.7 856.625 Q344.123 852.883 344.123 845.792 Q344.123 839.134 347.283 835.185 Q350.442 831.216 355.765 831.216 Q357.194 831.216 358.643 831.498 Q360.11 831.78 361.689 832.345 Z\" fill=\"#000000\" fill-rule=\"evenodd\" fill-opacity=\"1\" /><path clip-path=\"url(#clip350)\" d=\"M116.668 621.825 L124.306 621.825 L124.306 595.459 L115.996 597.126 L115.996 592.867 L124.26 591.2 L128.936 591.2 L128.936 621.825 L136.575 621.825 L136.575 625.76 L116.668 625.76 L116.668 621.825 Z\" fill=\"#000000\" fill-rule=\"evenodd\" fill-opacity=\"1\" /><path clip-path=\"url(#clip350)\" d=\"M146.019 619.88 L150.903 619.88 L150.903 625.76 L146.019 625.76 L146.019 619.88 Z\" fill=\"#000000\" fill-rule=\"evenodd\" fill-opacity=\"1\" /><path clip-path=\"url(#clip350)\" d=\"M161.135 591.2 L179.491 591.2 L179.491 595.135 L165.417 595.135 L165.417 603.607 Q166.436 603.26 167.454 603.098 Q168.473 602.913 169.491 602.913 Q175.278 602.913 178.658 606.084 Q182.038 609.255 182.038 614.672 Q182.038 620.251 178.565 623.353 Q175.093 626.431 168.774 626.431 Q166.598 626.431 164.329 626.061 Q162.084 625.691 159.677 624.95 L159.677 620.251 Q161.76 621.385 163.982 621.941 Q166.204 622.496 168.681 622.496 Q172.686 622.496 175.024 620.39 Q177.362 618.283 177.362 614.672 Q177.362 611.061 175.024 608.954 Q172.686 606.848 168.681 606.848 Q166.806 606.848 164.931 607.265 Q163.079 607.681 161.135 608.561 L161.135 591.2 Z\" fill=\"#000000\" fill-rule=\"evenodd\" fill-opacity=\"1\" /><path clip-path=\"url(#clip350)\" d=\"M201.25 594.279 Q197.639 594.279 195.811 597.843 Q194.005 601.385 194.005 608.515 Q194.005 615.621 195.811 619.186 Q197.639 622.728 201.25 622.728 Q204.885 622.728 206.69 619.186 Q208.519 615.621 208.519 608.515 Q208.519 601.385 206.69 597.843 Q204.885 594.279 201.25 594.279 M201.25 590.575 Q207.061 590.575 210.116 595.181 Q213.195 599.765 213.195 608.515 Q213.195 617.241 210.116 621.848 Q207.061 626.431 201.25 626.431 Q195.44 626.431 192.362 621.848 Q189.306 617.241 189.306 608.515 Q189.306 599.765 192.362 595.181 Q195.44 590.575 201.25 590.575 Z\" fill=\"#000000\" fill-rule=\"evenodd\" fill-opacity=\"1\" /><path clip-path=\"url(#clip350)\" d=\"M249.584 600.297 L239.005 610.922 L249.584 621.501 L246.829 624.302 L236.204 613.677 L225.579 624.302 L222.848 621.501 L233.403 610.922 L222.848 600.297 L225.579 597.496 L236.204 608.121 L246.829 597.496 L249.584 600.297 Z\" fill=\"#000000\" fill-rule=\"evenodd\" fill-opacity=\"1\" /><path clip-path=\"url(#clip350)\" d=\"M261.945 621.825 L269.583 621.825 L269.583 595.459 L261.273 597.126 L261.273 592.867 L269.537 591.2 L274.213 591.2 L274.213 621.825 L281.852 621.825 L281.852 625.76 L261.945 625.76 L261.945 621.825 Z\" fill=\"#000000\" fill-rule=\"evenodd\" fill-opacity=\"1\" /><path clip-path=\"url(#clip350)\" d=\"M301.296 594.279 Q297.685 594.279 295.856 597.843 Q294.051 601.385 294.051 608.515 Q294.051 615.621 295.856 619.186 Q297.685 622.728 301.296 622.728 Q304.93 622.728 306.736 619.186 Q308.565 615.621 308.565 608.515 Q308.565 601.385 306.736 597.843 Q304.93 594.279 301.296 594.279 M301.296 590.575 Q307.106 590.575 310.162 595.181 Q313.241 599.765 313.241 608.515 Q313.241 617.241 310.162 621.848 Q307.106 626.431 301.296 626.431 Q295.486 626.431 292.407 621.848 Q289.352 617.241 289.352 608.515 Q289.352 599.765 292.407 595.181 Q295.486 590.575 301.296 590.575 Z\" fill=\"#000000\" fill-rule=\"evenodd\" fill-opacity=\"1\" /><path clip-path=\"url(#clip350)\" d=\"M313.241 584.676 L337.352 584.676 L337.352 587.874 L313.241 587.874 L313.241 584.676 Z\" fill=\"#000000\" fill-rule=\"evenodd\" fill-opacity=\"1\" /><path clip-path=\"url(#clip350)\" d=\"M354.147 582.796 Q351.59 582.796 350.085 584.545 Q348.599 586.294 348.599 589.341 Q348.599 592.369 350.085 594.137 Q351.59 595.886 354.147 595.886 Q356.705 595.886 358.191 594.137 Q359.696 592.369 359.696 589.341 Q359.696 586.294 358.191 584.545 Q356.705 582.796 354.147 582.796 M361.689 570.89 L361.689 574.351 Q360.26 573.674 358.793 573.316 Q357.345 572.959 355.915 572.959 Q352.154 572.959 350.16 575.498 Q348.185 578.037 347.903 583.172 Q349.013 581.535 350.687 580.67 Q352.361 579.786 354.373 579.786 Q358.605 579.786 361.05 582.363 Q363.514 584.921 363.514 589.341 Q363.514 593.666 360.956 596.281 Q358.398 598.895 354.147 598.895 Q349.276 598.895 346.7 595.171 Q344.123 591.428 344.123 584.338 Q344.123 577.68 347.283 573.73 Q350.442 569.762 355.765 569.762 Q357.194 569.762 358.643 570.044 Q360.11 570.326 361.689 570.89 Z\" fill=\"#000000\" fill-rule=\"evenodd\" fill-opacity=\"1\" /><path clip-path=\"url(#clip350)\" d=\"M119.885 360.37 L136.204 360.37 L136.204 364.306 L114.26 364.306 L114.26 360.37 Q116.922 357.616 121.505 352.986 Q126.112 348.333 127.292 346.991 Q129.538 344.468 130.417 342.732 Q131.32 340.972 131.32 339.283 Q131.32 336.528 129.376 334.792 Q127.455 333.056 124.353 333.056 Q122.154 333.056 119.7 333.82 Q117.269 334.583 114.492 336.134 L114.492 331.412 Q117.316 330.278 119.769 329.699 Q122.223 329.121 124.26 329.121 Q129.63 329.121 132.825 331.806 Q136.019 334.491 136.019 338.982 Q136.019 341.111 135.209 343.032 Q134.422 344.931 132.316 347.523 Q131.737 348.194 128.635 351.412 Q125.533 354.606 119.885 360.37 Z\" fill=\"#000000\" fill-rule=\"evenodd\" fill-opacity=\"1\" /><path clip-path=\"url(#clip350)\" d=\"M146.019 358.426 L150.903 358.426 L150.903 364.306 L146.019 364.306 L146.019 358.426 Z\" fill=\"#000000\" fill-rule=\"evenodd\" fill-opacity=\"1\" /><path clip-path=\"url(#clip350)\" d=\"M171.089 332.824 Q167.477 332.824 165.649 336.389 Q163.843 339.931 163.843 347.06 Q163.843 354.167 165.649 357.731 Q167.477 361.273 171.089 361.273 Q174.723 361.273 176.528 357.731 Q178.357 354.167 178.357 347.06 Q178.357 339.931 176.528 336.389 Q174.723 332.824 171.089 332.824 M171.089 329.121 Q176.899 329.121 179.954 333.727 Q183.033 338.31 183.033 347.06 Q183.033 355.787 179.954 360.393 Q176.899 364.977 171.089 364.977 Q165.278 364.977 162.2 360.393 Q159.144 355.787 159.144 347.06 Q159.144 338.31 162.2 333.727 Q165.278 329.121 171.089 329.121 Z\" fill=\"#000000\" fill-rule=\"evenodd\" fill-opacity=\"1\" /><path clip-path=\"url(#clip350)\" d=\"M201.25 332.824 Q197.639 332.824 195.811 336.389 Q194.005 339.931 194.005 347.06 Q194.005 354.167 195.811 357.731 Q197.639 361.273 201.25 361.273 Q204.885 361.273 206.69 357.731 Q208.519 354.167 208.519 347.06 Q208.519 339.931 206.69 336.389 Q204.885 332.824 201.25 332.824 M201.25 329.121 Q207.061 329.121 210.116 333.727 Q213.195 338.31 213.195 347.06 Q213.195 355.787 210.116 360.393 Q207.061 364.977 201.25 364.977 Q195.44 364.977 192.362 360.393 Q189.306 355.787 189.306 347.06 Q189.306 338.31 192.362 333.727 Q195.44 329.121 201.25 329.121 Z\" fill=\"#000000\" fill-rule=\"evenodd\" fill-opacity=\"1\" /><path clip-path=\"url(#clip350)\" d=\"M249.584 338.843 L239.005 349.468 L249.584 360.046 L246.829 362.847 L236.204 352.222 L225.579 362.847 L222.848 360.046 L233.403 349.468 L222.848 338.843 L225.579 336.042 L236.204 346.667 L246.829 336.042 L249.584 338.843 Z\" fill=\"#000000\" fill-rule=\"evenodd\" fill-opacity=\"1\" /><path clip-path=\"url(#clip350)\" d=\"M261.945 360.37 L269.583 360.37 L269.583 334.005 L261.273 335.671 L261.273 331.412 L269.537 329.746 L274.213 329.746 L274.213 360.37 L281.852 360.37 L281.852 364.306 L261.945 364.306 L261.945 360.37 Z\" fill=\"#000000\" fill-rule=\"evenodd\" fill-opacity=\"1\" /><path clip-path=\"url(#clip350)\" d=\"M301.296 332.824 Q297.685 332.824 295.856 336.389 Q294.051 339.931 294.051 347.06 Q294.051 354.167 295.856 357.731 Q297.685 361.273 301.296 361.273 Q304.93 361.273 306.736 357.731 Q308.565 354.167 308.565 347.06 Q308.565 339.931 306.736 336.389 Q304.93 332.824 301.296 332.824 M301.296 329.121 Q307.106 329.121 310.162 333.727 Q313.241 338.31 313.241 347.06 Q313.241 355.787 310.162 360.393 Q307.106 364.977 301.296 364.977 Q295.486 364.977 292.407 360.393 Q289.352 355.787 289.352 347.06 Q289.352 338.31 292.407 333.727 Q295.486 329.121 301.296 329.121 Z\" fill=\"#000000\" fill-rule=\"evenodd\" fill-opacity=\"1\" /><path clip-path=\"url(#clip350)\" d=\"M313.241 323.222 L337.352 323.222 L337.352 326.419 L313.241 326.419 L313.241 323.222 Z\" fill=\"#000000\" fill-rule=\"evenodd\" fill-opacity=\"1\" /><path clip-path=\"url(#clip350)\" d=\"M354.147 321.341 Q351.59 321.341 350.085 323.09 Q348.599 324.839 348.599 327.886 Q348.599 330.914 350.085 332.682 Q351.59 334.431 354.147 334.431 Q356.705 334.431 358.191 332.682 Q359.696 330.914 359.696 327.886 Q359.696 324.839 358.191 323.09 Q356.705 321.341 354.147 321.341 M361.689 309.436 L361.689 312.896 Q360.26 312.219 358.793 311.862 Q357.345 311.505 355.915 311.505 Q352.154 311.505 350.16 314.044 Q348.185 316.583 347.903 321.717 Q349.013 320.081 350.687 319.216 Q352.361 318.332 354.373 318.332 Q358.605 318.332 361.05 320.909 Q363.514 323.466 363.514 327.886 Q363.514 332.212 360.956 334.826 Q358.398 337.441 354.147 337.441 Q349.276 337.441 346.7 333.717 Q344.123 329.974 344.123 322.883 Q344.123 316.225 347.283 312.276 Q350.442 308.307 355.765 308.307 Q357.194 308.307 358.643 308.589 Q360.11 308.872 361.689 309.436 Z\" fill=\"#000000\" fill-rule=\"evenodd\" fill-opacity=\"1\" /><path clip-path=\"url(#clip350)\" d=\"M49.9359 940.744 L28.3562 940.744 L28.3562 934.888 L49.7131 934.888 Q54.7739 934.888 57.3202 932.914 Q59.8346 930.941 59.8346 926.994 Q59.8346 922.252 56.8109 919.514 Q53.7872 916.745 48.5673 916.745 L28.3562 916.745 L28.3562 910.889 L64.0042 910.889 L64.0042 916.745 L58.5296 916.745 Q61.7762 918.878 63.3676 921.711 Q64.9272 924.512 64.9272 928.235 Q64.9272 934.378 61.1078 937.561 Q57.2883 940.744 49.9359 940.744 M27.4968 926.007 L27.4968 926.007 Z\" fill=\"#000000\" fill-rule=\"evenodd\" fill-opacity=\"1\" /><path clip-path=\"url(#clip350)\" d=\"M14.5426 884.758 Q21.8632 889.023 29.0246 891.092 Q36.186 893.16 43.5384 893.16 Q50.8908 893.16 58.1159 891.092 Q65.3091 888.991 72.5979 884.758 L72.5979 889.85 Q65.1182 894.625 57.8931 897.012 Q50.668 899.367 43.5384 899.367 Q36.4406 899.367 29.2474 897.012 Q22.0542 894.656 14.5426 889.85 L14.5426 884.758 Z\" fill=\"#000000\" fill-rule=\"evenodd\" fill-opacity=\"1\" /><path clip-path=\"url(#clip350)\" d=\"M28.3562 843.763 L45.7028 856.653 L64.0042 843.094 L64.0042 850.001 L49.9996 860.377 L64.0042 870.753 L64.0042 877.66 L45.3526 863.815 L28.3562 876.482 L28.3562 869.575 L41.0558 860.122 L28.3562 850.669 L28.3562 843.763 Z\" fill=\"#000000\" fill-rule=\"evenodd\" fill-opacity=\"1\" /><path clip-path=\"url(#clip350)\" d=\"M14.5426 835.742 L14.5426 830.649 Q22.0542 825.875 29.2474 823.52 Q36.4406 821.132 43.5384 821.132 Q50.668 821.132 57.8931 823.52 Q65.1182 825.875 72.5979 830.649 L72.5979 835.742 Q65.3091 831.509 58.1159 829.44 Q50.8908 827.339 43.5384 827.339 Q36.186 827.339 29.0246 829.44 Q21.8632 831.509 14.5426 835.742 Z\" fill=\"#000000\" fill-rule=\"evenodd\" fill-opacity=\"1\" /><path clip-path=\"url(#clip350)\" d=\"M14.5426 774.599 Q21.8632 778.864 29.0246 780.933 Q36.186 783.002 43.5384 783.002 Q50.8908 783.002 58.1159 780.933 Q65.3091 778.832 72.5979 774.599 L72.5979 779.692 Q65.1182 784.466 57.8931 786.853 Q50.668 789.208 43.5384 789.208 Q36.4406 789.208 29.2474 786.853 Q22.0542 784.498 14.5426 779.692 L14.5426 774.599 Z\" fill=\"#000000\" fill-rule=\"evenodd\" fill-opacity=\"1\" /><path clip-path=\"url(#clip350)\" d=\"M28.3562 763.236 L28.3562 757.38 L64.0042 757.38 L64.0042 763.236 L28.3562 763.236 M14.479 763.236 L14.479 757.38 L21.895 757.38 L21.895 763.236 L14.479 763.236 Z\" fill=\"#000000\" fill-rule=\"evenodd\" fill-opacity=\"1\" /><path clip-path=\"url(#clip350)\" d=\"M42.4881 715.494 L64.0042 715.494 L64.0042 721.35 L42.679 721.35 Q37.6183 721.35 35.1038 723.323 Q32.5894 725.297 32.5894 729.243 Q32.5894 733.986 35.6131 736.723 Q38.6368 739.46 43.8567 739.46 L64.0042 739.46 L64.0042 745.349 L28.3562 745.349 L28.3562 739.46 L33.8944 739.46 Q30.6797 737.36 29.0883 734.527 Q27.4968 731.662 27.4968 727.938 Q27.4968 721.796 31.3163 718.645 Q35.1038 715.494 42.4881 715.494 Z\" fill=\"#000000\" fill-rule=\"evenodd\" fill-opacity=\"1\" /><path clip-path=\"url(#clip350)\" d=\"M35.1993 655.338 Q31.2526 653.141 29.3747 650.086 Q27.4968 647.03 27.4968 642.893 Q27.4968 637.323 31.4117 634.299 Q35.2948 631.275 42.4881 631.275 L64.0042 631.275 L64.0042 637.164 L42.679 637.164 Q37.5546 637.164 35.072 638.978 Q32.5894 640.792 32.5894 644.516 Q32.5894 649.067 35.6131 651.709 Q38.6368 654.351 43.8567 654.351 L64.0042 654.351 L64.0042 660.239 L42.679 660.239 Q37.5228 660.239 35.072 662.053 Q32.5894 663.868 32.5894 667.655 Q32.5894 672.143 35.6449 674.785 Q38.6686 677.427 43.8567 677.427 L64.0042 677.427 L64.0042 683.315 L28.3562 683.315 L28.3562 677.427 L33.8944 677.427 Q30.616 675.421 29.0564 672.621 Q27.4968 669.82 27.4968 665.968 Q27.4968 662.085 29.4702 659.38 Q31.4436 656.643 35.1993 655.338 Z\" fill=\"#000000\" fill-rule=\"evenodd\" fill-opacity=\"1\" /><path clip-path=\"url(#clip350)\" d=\"M14.5426 620.517 L14.5426 615.425 Q22.0542 610.65 29.2474 608.295 Q36.4406 605.908 43.5384 605.908 Q50.668 605.908 57.8931 608.295 Q65.1182 610.65 72.5979 615.425 L72.5979 620.517 Q65.3091 616.284 58.1159 614.215 Q50.8908 612.114 43.5384 612.114 Q36.186 612.114 29.0246 614.215 Q21.8632 616.284 14.5426 620.517 Z\" fill=\"#000000\" fill-rule=\"evenodd\" fill-opacity=\"1\" /><path clip-path=\"url(#clip350)\" d=\"M1224.63 12.096 L1275.79 12.096 L1275.79 18.9825 L1254.32 18.9825 L1254.32 72.576 L1246.1 72.576 L1246.1 18.9825 L1224.63 18.9825 L1224.63 12.096 Z\" fill=\"#000000\" fill-rule=\"evenodd\" fill-opacity=\"1\" /><path clip-path=\"url(#clip350)\" d=\"M1308.08 48.0275 L1308.08 51.6733 L1273.81 51.6733 Q1274.3 59.3701 1278.43 63.421 Q1282.6 67.4314 1290.01 67.4314 Q1294.31 67.4314 1298.32 66.3781 Q1302.37 65.3249 1306.34 63.2184 L1306.34 70.267 Q1302.33 71.9684 1298.11 72.8596 Q1293.9 73.7508 1289.57 73.7508 Q1278.71 73.7508 1272.35 67.4314 Q1266.03 61.1119 1266.03 50.3365 Q1266.03 39.1965 1272.03 32.6746 Q1278.06 26.1121 1288.27 26.1121 Q1297.43 26.1121 1302.73 32.0264 Q1308.08 37.9003 1308.08 48.0275 M1300.63 45.84 Q1300.54 39.7232 1297.18 36.0774 Q1293.86 32.4315 1288.35 32.4315 Q1282.11 32.4315 1278.35 35.9558 Q1274.62 39.4801 1274.05 45.8805 L1300.63 45.84 Z\" fill=\"#000000\" fill-rule=\"evenodd\" fill-opacity=\"1\" /><path clip-path=\"url(#clip350)\" d=\"M1358.03 45.1919 L1358.03 72.576 L1350.57 72.576 L1350.57 45.4349 Q1350.57 38.994 1348.06 35.7938 Q1345.55 32.5936 1340.53 32.5936 Q1334.49 32.5936 1331.01 36.4419 Q1327.52 40.2903 1327.52 46.9338 L1327.52 72.576 L1320.03 72.576 L1320.03 27.2059 L1327.52 27.2059 L1327.52 34.2544 Q1330.2 30.163 1333.8 28.1376 Q1337.45 26.1121 1342.19 26.1121 Q1350.01 26.1121 1354.02 30.9732 Q1358.03 35.7938 1358.03 45.1919 Z\" fill=\"#000000\" fill-rule=\"evenodd\" fill-opacity=\"1\" /><path clip-path=\"url(#clip350)\" d=\"M1401.82 28.5427 L1401.82 35.5912 Q1398.66 33.9709 1395.26 33.1607 Q1391.85 32.3505 1388.21 32.3505 Q1382.66 32.3505 1379.86 34.0519 Q1377.11 35.7533 1377.11 39.156 Q1377.11 41.7486 1379.09 43.2475 Q1381.08 44.7058 1387.07 46.0426 L1389.62 46.6097 Q1397.56 48.3111 1400.89 51.4303 Q1404.25 54.509 1404.25 60.0587 Q1404.25 66.3781 1399.22 70.0644 Q1394.24 73.7508 1385.49 73.7508 Q1381.85 73.7508 1377.88 73.0216 Q1373.95 72.3329 1369.57 70.9151 L1369.57 63.2184 Q1373.7 65.3654 1377.71 66.4591 Q1381.73 67.5124 1385.65 67.5124 Q1390.92 67.5124 1393.76 65.73 Q1396.59 63.9071 1396.59 60.6258 Q1396.59 57.5877 1394.53 55.9673 Q1392.5 54.3469 1385.57 52.8481 L1382.98 52.2405 Q1376.05 50.7821 1372.98 47.7845 Q1369.9 44.7463 1369.9 39.4801 Q1369.9 33.0797 1374.43 29.5959 Q1378.97 26.1121 1387.32 26.1121 Q1391.45 26.1121 1395.09 26.7198 Q1398.74 27.3274 1401.82 28.5427 Z\" fill=\"#000000\" fill-rule=\"evenodd\" fill-opacity=\"1\" /><path clip-path=\"url(#clip350)\" d=\"M1416.12 27.2059 L1423.57 27.2059 L1423.57 72.576 L1416.12 72.576 L1416.12 27.2059 M1416.12 9.54393 L1423.57 9.54393 L1423.57 18.9825 L1416.12 18.9825 L1416.12 9.54393 Z\" fill=\"#000000\" fill-rule=\"evenodd\" fill-opacity=\"1\" /><path clip-path=\"url(#clip350)\" d=\"M1456.75 32.4315 Q1450.75 32.4315 1447.27 37.1306 Q1443.78 41.7891 1443.78 49.9314 Q1443.78 58.0738 1447.23 62.7728 Q1450.71 67.4314 1456.75 67.4314 Q1462.7 67.4314 1466.19 62.7323 Q1469.67 58.0333 1469.67 49.9314 Q1469.67 41.8701 1466.19 37.1711 Q1462.7 32.4315 1456.75 32.4315 M1456.75 26.1121 Q1466.47 26.1121 1472.02 32.4315 Q1477.57 38.7509 1477.57 49.9314 Q1477.57 61.0714 1472.02 67.4314 Q1466.47 73.7508 1456.75 73.7508 Q1446.99 73.7508 1441.44 67.4314 Q1435.93 61.0714 1435.93 49.9314 Q1435.93 38.7509 1441.44 32.4315 Q1446.99 26.1121 1456.75 26.1121 Z\" fill=\"#000000\" fill-rule=\"evenodd\" fill-opacity=\"1\" /><path clip-path=\"url(#clip350)\" d=\"M1527.64 45.1919 L1527.64 72.576 L1520.18 72.576 L1520.18 45.4349 Q1520.18 38.994 1517.67 35.7938 Q1515.16 32.5936 1510.14 32.5936 Q1504.1 32.5936 1500.62 36.4419 Q1497.14 40.2903 1497.14 46.9338 L1497.14 72.576 L1489.64 72.576 L1489.64 27.2059 L1497.14 27.2059 L1497.14 34.2544 Q1499.81 30.163 1503.41 28.1376 Q1507.06 26.1121 1511.8 26.1121 Q1519.62 26.1121 1523.63 30.9732 Q1527.64 35.7938 1527.64 45.1919 Z\" fill=\"#000000\" fill-rule=\"evenodd\" fill-opacity=\"1\" /><polyline clip-path=\"url(#clip352)\" style=\"stroke:#009af9; stroke-linecap:butt; stroke-linejoin:round; stroke-width:12; stroke-opacity:1; fill:none\" points=\"\n",
       "  454.794,1386.38 491.648,1337.82 528.501,1290.19 565.355,1243.55 602.209,1197.92 639.062,1153.29 675.916,1109.65 712.77,1067 749.623,1025.31 786.477,984.603 \n",
       "  823.33,944.861 860.184,906.092 897.038,868.298 933.891,831.486 970.745,795.659 1007.6,760.821 1044.45,726.973 1081.31,694.117 1118.16,662.248 1155.01,631.366 \n",
       "  1191.87,601.465 1228.72,572.543 1265.57,544.596 1302.43,517.622 1339.28,491.621 1376.13,466.594 1412.99,442.543 1449.84,419.472 1486.7,397.383 1523.55,376.282 \n",
       "  1560.4,356.171 1597.26,337.052 1634.11,318.924 1670.96,301.785 1707.82,285.633 1744.67,270.462 1781.52,256.268 1818.38,243.046 1855.23,230.795 1892.09,219.513 \n",
       "  1928.94,209.202 1965.79,199.867 2002.65,191.512 2039.5,184.143 2076.35,177.767 2113.21,172.387 2150.06,168.003 2186.91,164.611 2223.77,162.201 2260.62,160.757 \n",
       "  2297.48,160.256 \n",
       "  \"/>\n",
       "<polyline clip-path=\"url(#clip352)\" style=\"stroke:#e26f46; stroke-linecap:butt; stroke-linejoin:round; stroke-width:12; stroke-opacity:1; fill:none\" stroke-dasharray=\"48, 30\" points=\"\n",
       "  454.794,1386.4 491.648,1337.86 528.501,1290.31 565.355,1243.74 602.209,1198.15 639.062,1153.54 675.916,1109.91 712.77,1067.26 749.623,1025.59 786.477,984.9 \n",
       "  823.33,945.191 860.184,906.463 897.038,868.716 933.891,831.949 970.745,796.162 1007.6,761.356 1044.45,727.53 1081.31,694.685 1118.16,662.821 1155.01,631.936 \n",
       "  1191.87,602.032 1228.72,573.109 1265.57,545.166 1302.43,518.204 1339.28,492.221 1376.13,467.22 1412.99,443.199 1449.84,420.158 1486.7,398.098 1523.55,377.018 \n",
       "  1560.4,356.919 1597.26,337.8 1634.11,319.662 1670.96,302.504 1707.82,286.326 1744.67,271.129 1781.52,256.912 1818.38,243.676 1855.23,231.421 1892.09,220.145 \n",
       "  1928.94,209.851 1965.79,200.536 2002.65,192.203 2039.5,184.849 2076.35,178.476 2113.21,173.084 2150.06,168.672 2186.91,165.24 2223.77,162.789 2260.62,161.318 \n",
       "  2297.48,160.828 \n",
       "  \"/>\n",
       "<path clip-path=\"url(#clip350)\" d=\"\n",
       "M1931.94 322.316 L2287.65 322.316 L2287.65 166.796 L1931.94 166.796  Z\n",
       "  \" fill=\"#ffffff\" fill-rule=\"evenodd\" fill-opacity=\"1\"/>\n",
       "<polyline clip-path=\"url(#clip350)\" style=\"stroke:#000000; stroke-linecap:butt; stroke-linejoin:round; stroke-width:4; stroke-opacity:1; fill:none\" points=\"\n",
       "  1931.94,322.316 2287.65,322.316 2287.65,166.796 1931.94,166.796 1931.94,322.316 \n",
       "  \"/>\n",
       "<polyline clip-path=\"url(#clip350)\" style=\"stroke:#009af9; stroke-linecap:butt; stroke-linejoin:round; stroke-width:4; stroke-opacity:1; fill:none\" points=\"\n",
       "  1953.64,218.636 2083.86,218.636 \n",
       "  \"/>\n",
       "<path clip-path=\"url(#clip350)\" d=\"M2105.56 201.356 L2111.86 201.356 L2127.18 230.268 L2127.18 201.356 L2131.72 201.356 L2131.72 235.916 L2125.42 235.916 L2110.1 207.004 L2110.1 235.916 L2105.56 235.916 L2105.56 201.356 Z\" fill=\"#000000\" fill-rule=\"evenodd\" fill-opacity=\"1\" /><path clip-path=\"url(#clip350)\" d=\"M2141.03 201.356 L2147.32 201.356 L2162.65 230.268 L2162.65 201.356 L2167.18 201.356 L2167.18 235.916 L2160.89 235.916 L2145.56 207.004 L2145.56 235.916 L2141.03 235.916 L2141.03 201.356 Z\" fill=\"#000000\" fill-rule=\"evenodd\" fill-opacity=\"1\" /><polyline clip-path=\"url(#clip350)\" style=\"stroke:#e26f46; stroke-linecap:butt; stroke-linejoin:round; stroke-width:4; stroke-opacity:1; fill:none\" stroke-dasharray=\"16, 10\" points=\"\n",
       "  1953.64,270.476 2083.86,270.476 \n",
       "  \"/>\n",
       "<path clip-path=\"url(#clip350)\" d=\"M2118.97 274.723 Q2113.8 274.723 2111.81 275.904 Q2109.82 277.084 2109.82 279.932 Q2109.82 282.2 2111.3 283.543 Q2112.81 284.862 2115.38 284.862 Q2118.92 284.862 2121.05 282.362 Q2123.2 279.839 2123.2 275.672 L2123.2 274.723 L2118.97 274.723 M2127.46 272.964 L2127.46 287.756 L2123.2 287.756 L2123.2 283.821 Q2121.74 286.182 2119.57 287.316 Q2117.39 288.427 2114.24 288.427 Q2110.26 288.427 2107.9 286.205 Q2105.56 283.959 2105.56 280.209 Q2105.56 275.834 2108.48 273.612 Q2111.42 271.39 2117.23 271.39 L2123.2 271.39 L2123.2 270.973 Q2123.2 268.034 2121.26 266.436 Q2119.34 264.816 2115.84 264.816 Q2113.62 264.816 2111.51 265.348 Q2109.41 265.881 2107.46 266.946 L2107.46 263.01 Q2109.8 262.108 2112 261.668 Q2114.2 261.205 2116.28 261.205 Q2121.91 261.205 2124.68 264.122 Q2127.46 267.038 2127.46 272.964 Z\" fill=\"#000000\" fill-rule=\"evenodd\" fill-opacity=\"1\" /><path clip-path=\"url(#clip350)\" d=\"M2154.89 262.825 L2154.89 266.807 Q2153.09 265.811 2151.26 265.325 Q2149.45 264.816 2147.6 264.816 Q2143.46 264.816 2141.16 267.455 Q2138.87 270.071 2138.87 274.816 Q2138.87 279.561 2141.16 282.2 Q2143.46 284.816 2147.6 284.816 Q2149.45 284.816 2151.26 284.33 Q2153.09 283.821 2154.89 282.825 L2154.89 286.76 Q2153.11 287.594 2151.19 288.01 Q2149.29 288.427 2147.14 288.427 Q2141.28 288.427 2137.83 284.746 Q2134.38 281.066 2134.38 274.816 Q2134.38 268.473 2137.85 264.839 Q2141.35 261.205 2147.41 261.205 Q2149.38 261.205 2151.26 261.622 Q2153.13 262.015 2154.89 262.825 Z\" fill=\"#000000\" fill-rule=\"evenodd\" fill-opacity=\"1\" /><path clip-path=\"url(#clip350)\" d=\"M2166.51 254.469 L2166.51 261.83 L2175.28 261.83 L2175.28 265.14 L2166.51 265.14 L2166.51 279.214 Q2166.51 282.385 2167.37 283.288 Q2168.25 284.191 2170.91 284.191 L2175.28 284.191 L2175.28 287.756 L2170.91 287.756 Q2165.98 287.756 2164.1 285.927 Q2162.23 284.075 2162.23 279.214 L2162.23 265.14 L2159.1 265.14 L2159.1 261.83 L2162.23 261.83 L2162.23 254.469 L2166.51 254.469 Z\" fill=\"#000000\" fill-rule=\"evenodd\" fill-opacity=\"1\" /><path clip-path=\"url(#clip350)\" d=\"M2180.45 277.524 L2180.45 261.83 L2184.71 261.83 L2184.71 277.362 Q2184.71 281.043 2186.14 282.895 Q2187.58 284.723 2190.45 284.723 Q2193.9 284.723 2195.89 282.524 Q2197.9 280.325 2197.9 276.529 L2197.9 261.83 L2202.16 261.83 L2202.16 287.756 L2197.9 287.756 L2197.9 283.774 Q2196.35 286.135 2194.29 287.293 Q2192.25 288.427 2189.54 288.427 Q2185.08 288.427 2182.76 285.649 Q2180.45 282.871 2180.45 277.524 M2191.16 261.205 L2191.16 261.205 Z\" fill=\"#000000\" fill-rule=\"evenodd\" fill-opacity=\"1\" /><path clip-path=\"url(#clip350)\" d=\"M2222.71 274.723 Q2217.55 274.723 2215.56 275.904 Q2213.57 277.084 2213.57 279.932 Q2213.57 282.2 2215.05 283.543 Q2216.56 284.862 2219.13 284.862 Q2222.67 284.862 2224.8 282.362 Q2226.95 279.839 2226.95 275.672 L2226.95 274.723 L2222.71 274.723 M2231.21 272.964 L2231.21 287.756 L2226.95 287.756 L2226.95 283.821 Q2225.49 286.182 2223.32 287.316 Q2221.14 288.427 2217.99 288.427 Q2214.01 288.427 2211.65 286.205 Q2209.31 283.959 2209.31 280.209 Q2209.31 275.834 2212.23 273.612 Q2215.17 271.39 2220.98 271.39 L2226.95 271.39 L2226.95 270.973 Q2226.95 268.034 2225.01 266.436 Q2223.09 264.816 2219.59 264.816 Q2217.37 264.816 2215.26 265.348 Q2213.15 265.881 2211.21 266.946 L2211.21 263.01 Q2213.55 262.108 2215.75 261.668 Q2217.95 261.205 2220.03 261.205 Q2225.65 261.205 2228.43 264.122 Q2231.21 267.038 2231.21 272.964 Z\" fill=\"#000000\" fill-rule=\"evenodd\" fill-opacity=\"1\" /><path clip-path=\"url(#clip350)\" d=\"M2239.98 251.737 L2244.24 251.737 L2244.24 287.756 L2239.98 287.756 L2239.98 251.737 Z\" fill=\"#000000\" fill-rule=\"evenodd\" fill-opacity=\"1\" /></svg>\n"
      ]
     },
     "execution_count": 12,
     "metadata": {},
     "output_type": "execute_result"
    }
   ],
   "source": [
    "p = plot(dom,cons*δ.(dom),linewidth = 3, title = \"Tension\", label = \"NN\",xaxis=\"length(m)\",yaxis=\"u(x) (in m)\")\n",
    "p = plot!(dom,analytic_solution_Tension.(dom),lw=3,ls=:dash,label = \"actual\")\n",
    "savefig(\"variable_load_1d_bar.pdf\")\n",
    "plot(p)"
   ]
  }
 ],
 "metadata": {
  "kernelspec": {
   "display_name": "Julia 1.7.2",
   "language": "julia",
   "name": "julia-1.7"
  },
  "language_info": {
   "file_extension": ".jl",
   "mimetype": "application/julia",
   "name": "julia",
   "version": "1.7.2"
  }
 },
 "nbformat": 4,
 "nbformat_minor": 5
}
