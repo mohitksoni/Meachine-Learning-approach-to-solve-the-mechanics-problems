{
 "cells": [
  {
   "cell_type": "markdown",
   "id": "b16b95b1",
   "metadata": {},
   "source": [
    "### Importing all the useful packages"
   ]
  },
  {
   "cell_type": "code",
   "execution_count": null,
   "id": "5ded3036",
   "metadata": {},
   "outputs": [],
   "source": [
    "using NeuralPDE, Flux, ModelingToolkit, GalacticOptim, Optim, DiffEqFlux, CPUTime\n",
    "import ModelingToolkit: Interval, infimum, supremum\n",
    "\n",
    "@parameters x,y\n",
    "@variables u(..)\n",
    "\n",
    "Dxx = Differential(x)^2\n",
    "Dyy = Differential(y)^2\n",
    "Dy = Differential(y)\n",
    "Dx = Differential(x)"
   ]
  },
  {
   "cell_type": "markdown",
   "id": "e8b7a735",
   "metadata": {},
   "source": [
    "### Analytic Solution of the Poisson Equation"
   ]
  },
  {
   "cell_type": "code",
   "execution_count": null,
   "id": "8648653e",
   "metadata": {},
   "outputs": [],
   "source": [
    "analytic_sol_func(x,y) = (sin(pi*x)*sin(pi*y))/(2pi^2)"
   ]
  },
  {
   "cell_type": "markdown",
   "id": "09a58e4d",
   "metadata": {},
   "source": [
    "### Specifying Domains and the boundary conditions"
   ]
  },
  {
   "cell_type": "code",
   "execution_count": null,
   "id": "4459df80",
   "metadata": {},
   "outputs": [],
   "source": [
    "# 2D PDE\n",
    "eq  = Dxx(u(x,y)) + Dyy(u(x,y)) ~ -sin(pi*x)*sin(pi*y)\n",
    "\n",
    "# Boundary conditions\n",
    "bcs = [u(0,y) ~ 0.0, u(1,y) ~ -sin(pi*1)*sin(pi*y),\n",
    "       u(x,0) ~ 0.0, u(x,1) ~ -sin(pi*x)*sin(pi*1)]\n",
    "# Space and time domains\n",
    "domains = [x ∈ Interval(0.0,1.0),\n",
    "           y ∈ Interval(0.0,1.0)]"
   ]
  },
  {
   "cell_type": "markdown",
   "id": "c9bfcf5a",
   "metadata": {},
   "source": [
    "### Discretization and problem formulation"
   ]
  },
  {
   "cell_type": "code",
   "execution_count": null,
   "id": "c8ae9be0",
   "metadata": {},
   "outputs": [],
   "source": [
    "dim = 2\n",
    "chain = FastChain(FastDense(dim,16,Flux.σ),FastDense(16,16,Flux.σ),FastDense(16,1))\n",
    "# Initial parameters of Neural network\n",
    "initθ = Float64.(DiffEqFlux.initial_params(chain))\n",
    "\n",
    "# Discretization\n",
    "dx = 0.05\n",
    "discretization = PhysicsInformedNN(chain,GridTraining(dx),init_params =initθ)\n",
    "\n",
    "@named pde_system = PDESystem(eq,bcs,domains,[x,y],[u(x, y)])\n",
    "prob = discretize(pde_system,discretization)\n",
    "\n",
    "cb = function (p,l)\n",
    "    println(\"Current loss is: $l\")\n",
    "    return false\n",
    "end\n",
    "# optimizer\n",
    "opt = Optim.BFGS()\n",
    "@time @CPUtime res = GalacticOptim.solve(prob,opt; cb = cb, maxiters=1000)\n",
    "phi = discretization.phi"
   ]
  },
  {
   "cell_type": "markdown",
   "id": "31f8adf7",
   "metadata": {},
   "source": [
    "### Plotting the results"
   ]
  },
  {
   "cell_type": "code",
   "execution_count": null,
   "id": "8e9f8995",
   "metadata": {},
   "outputs": [],
   "source": [
    "using Plots\n",
    "\n",
    "xs,ys = [infimum(d.domain):dx/10:supremum(d.domain) for d in domains]\n",
    "\n",
    "u_predict = reshape([first(phi([x,y],res.minimizer)) for x in xs for y in ys],(length(xs),length(ys)))\n",
    "u_real = reshape([analytic_sol_func(x,y) for x in xs for y in ys], (length(xs),length(ys)))\n",
    "diff_u = abs.(u_predict .- u_real)\n",
    "\n",
    "p1 = plot(xs, ys, u_real, linetype=:contourf,title = \"analytic\");\n",
    "savefig(\"analyticPoisson.pdf\")\n",
    "p2 = plot(xs, ys, u_predict, linetype=:contourf,title = \"predict\");\n",
    "savefig(\"predictPoisson.pdf\")\n",
    "p3 = plot(xs, ys, diff_u,linetype=:contourf,title = \"error\");\n",
    "savefig(\"errorPoisson.pdf\")\n",
    "plot(p1,p2,p3)"
   ]
  },
  {
   "cell_type": "code",
   "execution_count": null,
   "id": "fc19971b",
   "metadata": {},
   "outputs": [],
   "source": [
    "surface(xs, ys, u_real,title = \"analytic\")"
   ]
  },
  {
   "cell_type": "code",
   "execution_count": null,
   "id": "e78729e9",
   "metadata": {},
   "outputs": [],
   "source": [
    "surface(xs, ys, u_predict,title = \"predict\")"
   ]
  },
  {
   "cell_type": "code",
   "execution_count": null,
   "id": "ef39657f",
   "metadata": {},
   "outputs": [],
   "source": [
    "surface(xs, ys, diff_u,title = \"error\")"
   ]
  }
 ],
 "metadata": {
  "kernelspec": {
   "display_name": "Julia 1.7.2",
   "language": "julia",
   "name": "julia-1.7"
  },
  "language_info": {
   "file_extension": ".jl",
   "mimetype": "application/julia",
   "name": "julia",
   "version": "1.7.2"
  }
 },
 "nbformat": 4,
 "nbformat_minor": 5
}
