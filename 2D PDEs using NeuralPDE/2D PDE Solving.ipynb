{
 "cells": [
  {
   "cell_type": "markdown",
   "metadata": {},
   "source": [
    "### Importing all necessary packages"
   ]
  },
  {
   "cell_type": "code",
   "execution_count": null,
   "metadata": {},
   "outputs": [],
   "source": [
    "using Flux\n",
    "using CPUTime\n",
    "using NeuralPDE\n",
    "using GalacticOptim\n",
    "using Optim\n",
    "using DiffEqFlux\n",
    "using Quadrature\n",
    "using CUDA\n",
    "using Cuba\n",
    "using QuasiMonteCarlo\n",
    "using ModelingToolkit #it contains @variables and parameters"
   ]
  },
  {
   "cell_type": "markdown",
   "metadata": {},
   "source": [
    "### Defining the Equation, Domains and Boundary conditions"
   ]
  },
  {
   "cell_type": "code",
   "execution_count": null,
   "metadata": {},
   "outputs": [],
   "source": [
    "@parameters x y t\n",
    "@variables u(..)\n",
    "\n",
    "# Derivatives\n",
    "Dxx = Differential(x)^2\n",
    "Dyy = Differential(y)^2\n",
    "Dt = Differential(t)\n",
    "\n",
    "# Partial Differential equation\n",
    "eq = Dt(u(t,x,y)) ~ Dxx(u(t,x,y))+Dyy(u(t,x,y))\n",
    "\n",
    "# Analytical Solution function\n",
    "analytic_sol_func(t,x,y) = exp(x+y)*cos(x+y+4t)\n",
    "\n",
    "# Domains for x,y,time 't'\n",
    "domains = [t ∈ IntervalDomain(0.,2.),\n",
    "          x ∈ IntervalDomain(0.,2.),\n",
    "          y ∈ IntervalDomain(0.,2.)]\n",
    "\n",
    "# Boundary Conditions\n",
    "bcs = [u(0.,x,y)~analytic_sol_func(0.,x,y),\n",
    "       u(t,0.,y)~analytic_sol_func(t,0.,y),\n",
    "       u(t,2.,y)~analytic_sol_func(t,2.,y),\n",
    "       u(t,x,0.)~analytic_sol_func(t,x,0.),\n",
    "       u(t,x,2.)~analytic_sol_func(t,x,2.)]"
   ]
  },
  {
   "cell_type": "markdown",
   "metadata": {},
   "source": [
    "### Creating the NN and Defining the PDE problem"
   ]
  },
  {
   "cell_type": "code",
   "execution_count": null,
   "metadata": {},
   "outputs": [],
   "source": [
    "# NN with 2 Hidden layers\n",
    "# total weight parameters to be trained (40+110+110+11 = 271)\n",
    "chain = FastChain(FastDense(3,10,Flux.σ),\n",
    "                  FastDense(10,10,Flux.σ),\n",
    "                  FastDense(10,10,Flux.σ),\n",
    "                  FastDense(10,1))\n",
    "\n",
    "# Initial parameters\n",
    "initθ = DiffEqFlux.initial_params(chain) |> gpu\n",
    "\n",
    "# Training Strategy\n",
    "strategy = NeuralPDE.QuasiRandomTraining(3000; #points\n",
    "                                         sampling_alg = UniformSample(),\n",
    "                                         minibatch = 50)\n",
    "# Discritization\n",
    "discretization = NeuralPDE.PhysicsInformedNN(chain,\n",
    "                                             strategy;\n",
    "                                             init_params = initθ)\n",
    "# Problem formulation\n",
    "@named pde_system = PDESystem(eq,bcs,domains,[t,x,y],[u])\n",
    "prob = NeuralPDE.discretize(pde_system,discretization)"
   ]
  },
  {
   "cell_type": "code",
   "execution_count": null,
   "metadata": {},
   "outputs": [],
   "source": [
    "# Callback function\n",
    "cb = function (p,l)\n",
    "    println(\"Current loss is: $l\")\n",
    "    return false\n",
    "end\n",
    "\n",
    "# Training\n",
    "@time @CPUtime res = GalacticOptim.solve(prob,ADAM(0.1);cb=cb,maxiters=1500)\n",
    "prob = remake(prob,u0=res.minimizer)\n",
    "\n",
    "@time @CPUtime res = GalacticOptim.solve(prob,ADAM(0.01);cb=cb,maxiters=1500)\n",
    "prob = remake(prob,u0=res.minimizer)\n",
    "\n",
    "@time @CPUtime res = GalacticOptim.solve(prob,ADAM(0.001);cb=cb,maxiters=1500)"
   ]
  },
  {
   "cell_type": "code",
   "execution_count": null,
   "metadata": {},
   "outputs": [],
   "source": [
    "phi = discretization.phi\n",
    "ts,xs,ys = [domain.domain.lower:0.1:domain.domain.upper for domain in domains]\n",
    "u_real = [analytic_sol_func(t,x,y) for t in ts for x in xs for y in ys]\n",
    "u_predict = [first(Array(phi([t, x, y], res.minimizer))) for t in ts for x in xs for y in ys]"
   ]
  },
  {
   "cell_type": "markdown",
   "metadata": {},
   "source": [
    "### Ploting the animation"
   ]
  },
  {
   "cell_type": "code",
   "execution_count": null,
   "metadata": {},
   "outputs": [],
   "source": [
    "using Plots\n",
    "using Printf\n",
    "\n",
    "function plot_(res)\n",
    "    # Animate\n",
    "    anim = @animate for (i, t) in enumerate(0:0.05:2.0)\n",
    "        @info \"Animating frame $i...\"\n",
    "        u_real = reshape([analytic_sol_func(t,x,y) for x in xs for y in ys], (length(xs),length(ys)))\n",
    "        u_predict = reshape([Array(phi([t, x, y], res.minimizer))[1] for x in xs for y in ys], length(xs), length(ys))\n",
    "        u_error = abs.(u_predict .- u_real)\n",
    "        title = @sprintf(\"predict t = %.3f\", t)\n",
    "        p1 = plot(xs, ys, u_predict,st=:surface, label=\"\", title=title)\n",
    "        title = @sprintf(\"real\")\n",
    "        p2 = plot(xs, ys, u_real,st=:surface, label=\"\", title=title)\n",
    "        title = @sprintf(\"error\")\n",
    "        p3 = plot(xs, ys, u_error, st=:contourf,label=\"\", title=title)\n",
    "        plot(p1,p2,p3)\n",
    "    end\n",
    "    gif(anim,\"3pde.gif\", fps=10)\n",
    "end\n",
    "\n",
    "plot_(res)"
   ]
  },
  {
   "cell_type": "markdown",
   "metadata": {},
   "source": [
    "### Checking at 1.0 seconds"
   ]
  },
  {
   "cell_type": "code",
   "execution_count": null,
   "metadata": {},
   "outputs": [],
   "source": [
    "t = 1.0\n",
    "u_real = reshape([analytic_sol_func(t,x,y) for x in xs for y in ys], (length(xs),length(ys)))\n",
    "u_predict = reshape([Array(phi([t, x, y], res.minimizer))[1] for x in xs for y in ys], length(xs), length(ys))\n",
    "u_error = abs.(u_predict .- u_real)\n",
    "\n",
    "title = @sprintf(\"predict t = %.2f sec\", t)\n",
    "p1 = plot(xs, ys, u_predict,st=:surface, label=\"\", title=title)\n",
    "title = @sprintf(\"analytic\")\n",
    "savefig(\"2D-PDE-pred.pdf\")\n",
    "p2 = plot(xs, ys, u_real,st=:surface, label=\"\", title=title)\n",
    "title = @sprintf(\"error\")\n",
    "savefig(\"2D-PDE-anal.pdf\")\n",
    "p3 = plot(xs, ys, u_error, st=:contourf,label=\"\", title=title)\n",
    "savefig(\"2D-PDE-err.pdf\")\n",
    "plot(p1,p2,p3)"
   ]
  }
 ],
 "metadata": {
  "kernelspec": {
   "display_name": "Julia 1.7.2",
   "language": "julia",
   "name": "julia-1.7"
  },
  "language_info": {
   "file_extension": ".jl",
   "mimetype": "application/julia",
   "name": "julia",
   "version": "1.7.2"
  }
 },
 "nbformat": 4,
 "nbformat_minor": 2
}
