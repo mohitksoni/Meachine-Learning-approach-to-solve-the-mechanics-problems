{
 "cells": [
  {
   "cell_type": "code",
   "execution_count": null,
   "id": "734ddccb",
   "metadata": {},
   "outputs": [],
   "source": [
    "using Flux\n",
    "using CPUTime\n",
    "using NeuralPDE\n",
    "using GalacticOptim\n",
    "using Optim\n",
    "using DiffEqFlux\n",
    "using Quadrature\n",
    "using CUDA\n",
    "using Cuba\n",
    "using QuasiMonteCarlo\n",
    "using ModelingToolkit #it contains @variables and parameters\n",
    "import ModelingToolkit: Interval, infimum, supremum\n",
    "\n",
    "@parameters x,y\n",
    "@variables u(..)\n",
    "\n",
    "Dxx = Differential(x)^2\n",
    "Dyy = Differential(y)^2\n",
    "Dy = Differential(y)\n",
    "Dx = Differential(x)\n",
    "\n",
    "D=1\n",
    "ν=0.3\n",
    "p0=-10;\n",
    "\n",
    "#Dimensions of plate\n",
    "a = 1\n",
    "b = 1\n",
    "\n",
    "#Neural Network Parameters\n",
    "dim = 2\n",
    "nodes = 16\n",
    "#Learning Rates\n",
    "r1 = 0.1\n",
    "r2 = 0.001"
   ]
  },
  {
   "cell_type": "code",
   "execution_count": null,
   "id": "22a7f59c",
   "metadata": {},
   "outputs": [],
   "source": [
    "p = (p0/D)*sin((π*x)/a)*sin((π*y)/b)"
   ]
  },
  {
   "cell_type": "code",
   "execution_count": null,
   "id": "02291ce3",
   "metadata": {},
   "outputs": [],
   "source": [
    "c = (1/a^2) + (1/b^2)\n",
    "analytical_solution(x,y) = (p0/(π^4*D*c))*sin((π*x)/a)*sin((π*y)/b)"
   ]
  },
  {
   "cell_type": "code",
   "execution_count": null,
   "id": "cc98c424",
   "metadata": {},
   "outputs": [],
   "source": [
    "eq = [Dxx(Dxx(u(x,y))) + Dyy(Dyy(u(x,y))) + 2*Dyy(Dxx(u(x,y))) ~ p/D]"
   ]
  },
  {
   "cell_type": "code",
   "execution_count": null,
   "id": "faab7b8a",
   "metadata": {},
   "outputs": [],
   "source": [
    "bcs = [u(0, y) ~ 0.0,\n",
    "        Dxx(u(0.0,y)) ~ 0.0,\n",
    "        Dxx(u(a, y)) ~ 0.0,\n",
    "        u(a,y) ~ 0.0,\n",
    "        Dyy(u(x,0.0)) ~ 0.0,\n",
    "        Dyy(u(x, b)) ~ 0.0,\n",
    "        u(x, 0.0) ~ 0.0,\n",
    "        u(x, b) ~ 0.0]"
   ]
  },
  {
   "cell_type": "code",
   "execution_count": null,
   "id": "192dfd59",
   "metadata": {},
   "outputs": [],
   "source": [
    "domains = [x ∈ Interval(0.0,a),\n",
    "           y ∈ Interval(0.0,b)]"
   ]
  },
  {
   "cell_type": "code",
   "execution_count": null,
   "id": "efe58c10",
   "metadata": {
    "scrolled": true
   },
   "outputs": [],
   "source": [
    "chain = FastChain(FastDense(dim,nodes,Flux.σ),FastDense(nodes,nodes,Flux.σ),FastDense(nodes,1))\n",
    "# Initial parameters of Neural network\n",
    "initθ = DiffEqFlux.initial_params(chain) |> gpu\n",
    "\n",
    "# Training Strategy\n",
    "strategy = NeuralPDE.QuasiRandomTraining(3000; #points\n",
    "                                         sampling_alg = UniformSample(),\n",
    "                                         minibatch = 50)\n",
    "# Discritization\n",
    "discretization = NeuralPDE.PhysicsInformedNN(chain,\n",
    "                                             strategy;\n",
    "                                             init_params = initθ)\n",
    "# Problem formulation\n",
    "@named pde_system = PDESystem(eq,bcs,domains,[x,y],[u])\n",
    "prob = NeuralPDE.discretize(pde_system,discretization)\n",
    "# Callback function\n",
    "cb = function (p,l)\n",
    "    println(\"Current loss is: $l\")\n",
    "    return false\n",
    "end\n",
    "\n",
    "# Training\n",
    "res = GalacticOptim.solve(prob,ADAM(r1);cb=cb,maxiters=3500)\n",
    "prob = remake(prob,u0=res.minimizer)\n",
    "    \n",
    "for i in 1:2\n",
    "    res = GalacticOptim.solve(prob,ADAM(r2);cb=cb,maxiters=2500)\n",
    "    prob = remake(prob,u0=res.minimizer)\n",
    "end\n",
    "res = GalacticOptim.solve(prob,ADAM(0r2);cb=cb,maxiters=2500)"
   ]
  },
  {
   "cell_type": "code",
   "execution_count": null,
   "id": "df5196d9",
   "metadata": {},
   "outputs": [],
   "source": [
    "dx = 0.05\n",
    "phi = discretization.phi\n",
    "xs,ys = [infimum(d.domain):dx:supremum(d.domain) for d in domains]"
   ]
  },
  {
   "cell_type": "code",
   "execution_count": null,
   "id": "e6e6b897",
   "metadata": {},
   "outputs": [],
   "source": [
    "using Plots\n",
    "u_predict = reshape([first(Array(phi([x, y], res.minimizer))) for x in xs for y in ys],(length(xs),length(ys)))\n",
    "u_analytical = reshape([analytical_solution(x,y) for x in xs for y in ys],(length(xs),length(ys)))"
   ]
  },
  {
   "cell_type": "code",
   "execution_count": null,
   "id": "e35d85cc",
   "metadata": {},
   "outputs": [],
   "source": [
    "p1 = plot(xs, ys, u_predict, linetype=:contourf,title = \"predicted\");\n",
    "savefig(\"NeuralPDEPlate_predicted.pdf\")\n",
    "plot(p1)"
   ]
  },
  {
   "cell_type": "code",
   "execution_count": null,
   "id": "34be9935",
   "metadata": {},
   "outputs": [],
   "source": [
    "p2 = plot(xs, ys, u_analytical, linetype=:contourf,title = \"analytical\");\n",
    "savefig(\"NeuralPDEPlate_analytical.pdf\")\n",
    "plot(p2)"
   ]
  },
  {
   "cell_type": "code",
   "execution_count": null,
   "id": "44f0f6d0",
   "metadata": {},
   "outputs": [],
   "source": [
    "diff_u = abs.(u_predict .- u_analytical)"
   ]
  },
  {
   "cell_type": "code",
   "execution_count": null,
   "id": "a875f372",
   "metadata": {},
   "outputs": [],
   "source": [
    "p3 = plot(xs, ys, diff_u, linetype=:contourf,title = \"error\");\n",
    "savefig(\"NeuralPDEPlate_error.pdf\")\n",
    "plot(p3)"
   ]
  }
 ],
 "metadata": {
  "kernelspec": {
   "display_name": "Julia 1.7.2",
   "language": "julia",
   "name": "julia-1.7"
  },
  "language_info": {
   "file_extension": ".jl",
   "mimetype": "application/julia",
   "name": "julia",
   "version": "1.7.2"
  }
 },
 "nbformat": 4,
 "nbformat_minor": 5
}
